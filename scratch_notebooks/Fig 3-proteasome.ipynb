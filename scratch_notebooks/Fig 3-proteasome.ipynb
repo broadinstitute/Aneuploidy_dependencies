{
 "cells": [
  {
   "cell_type": "code",
   "execution_count": 1,
   "metadata": {},
   "outputs": [],
   "source": [
    "import pandas as pd\n",
    "import numpy as np\n",
    "import seaborn as sns\n",
    "from matplotlib import pyplot as plt"
   ]
  },
  {
   "cell_type": "code",
   "execution_count": 2,
   "metadata": {},
   "outputs": [],
   "source": [
    "from cds import plotting\n",
    "from adjustText import adjust_text"
   ]
  },
  {
   "cell_type": "code",
   "execution_count": 163,
   "metadata": {},
   "outputs": [
    {
     "data": {
      "text/html": [
       "<div>\n",
       "<style scoped>\n",
       "    .dataframe tbody tr th:only-of-type {\n",
       "        vertical-align: middle;\n",
       "    }\n",
       "\n",
       "    .dataframe tbody tr th {\n",
       "        vertical-align: top;\n",
       "    }\n",
       "\n",
       "    .dataframe thead th {\n",
       "        text-align: right;\n",
       "    }\n",
       "</style>\n",
       "<table border=\"1\" class=\"dataframe\">\n",
       "  <thead>\n",
       "    <tr style=\"text-align: right;\">\n",
       "      <th></th>\n",
       "      <th>EffectSize</th>\n",
       "      <th>Avg</th>\n",
       "      <th>t_stat</th>\n",
       "      <th>p.value</th>\n",
       "      <th>q.value</th>\n",
       "      <th>log_odds</th>\n",
       "      <th>min_samples</th>\n",
       "      <th>p.left</th>\n",
       "      <th>p.right</th>\n",
       "      <th>q.left</th>\n",
       "      <th>q.right</th>\n",
       "    </tr>\n",
       "    <tr>\n",
       "      <th>Gene</th>\n",
       "      <th></th>\n",
       "      <th></th>\n",
       "      <th></th>\n",
       "      <th></th>\n",
       "      <th></th>\n",
       "      <th></th>\n",
       "      <th></th>\n",
       "      <th></th>\n",
       "      <th></th>\n",
       "      <th></th>\n",
       "      <th></th>\n",
       "    </tr>\n",
       "  </thead>\n",
       "  <tbody>\n",
       "    <tr>\n",
       "      <th>BRD-K62627508-001-01-5::2.5::HTS</th>\n",
       "      <td>1.300758</td>\n",
       "      <td>-0.526960</td>\n",
       "      <td>6.986768</td>\n",
       "      <td>2.365576e-11</td>\n",
       "      <td>1.108509e-07</td>\n",
       "      <td>14.871484</td>\n",
       "      <td>103</td>\n",
       "      <td>1.000000</td>\n",
       "      <td>1.182788e-11</td>\n",
       "      <td>1.0</td>\n",
       "      <td>5.542543e-08</td>\n",
       "    </tr>\n",
       "    <tr>\n",
       "      <th>BRD-K64925568-001-01-8::2.5::HTS</th>\n",
       "      <td>1.085902</td>\n",
       "      <td>-1.359209</td>\n",
       "      <td>6.592305</td>\n",
       "      <td>2.453341e-10</td>\n",
       "      <td>5.748178e-07</td>\n",
       "      <td>12.746298</td>\n",
       "      <td>102</td>\n",
       "      <td>1.000000</td>\n",
       "      <td>1.226670e-10</td>\n",
       "      <td>1.0</td>\n",
       "      <td>2.874089e-07</td>\n",
       "    </tr>\n",
       "    <tr>\n",
       "      <th>BRD-K79584249-001-01-3::2.5::HTS</th>\n",
       "      <td>1.019960</td>\n",
       "      <td>-0.403741</td>\n",
       "      <td>5.905866</td>\n",
       "      <td>1.123671e-08</td>\n",
       "      <td>1.755174e-05</td>\n",
       "      <td>9.289383</td>\n",
       "      <td>100</td>\n",
       "      <td>1.000000</td>\n",
       "      <td>5.618356e-09</td>\n",
       "      <td>1.0</td>\n",
       "      <td>8.775872e-06</td>\n",
       "    </tr>\n",
       "    <tr>\n",
       "      <th>BRD-K65924316-001-03-1::2.5::HTS</th>\n",
       "      <td>0.777775</td>\n",
       "      <td>-1.150624</td>\n",
       "      <td>5.214112</td>\n",
       "      <td>3.816734e-07</td>\n",
       "      <td>4.471304e-04</td>\n",
       "      <td>6.112273</td>\n",
       "      <td>101</td>\n",
       "      <td>1.000000</td>\n",
       "      <td>1.908367e-07</td>\n",
       "      <td>1.0</td>\n",
       "      <td>2.235652e-04</td>\n",
       "    </tr>\n",
       "    <tr>\n",
       "      <th>BRD-K99023089-001-03-7::2.5::HTS</th>\n",
       "      <td>0.558407</td>\n",
       "      <td>-0.408509</td>\n",
       "      <td>4.591955</td>\n",
       "      <td>6.863831e-06</td>\n",
       "      <td>5.929062e-03</td>\n",
       "      <td>3.520961</td>\n",
       "      <td>102</td>\n",
       "      <td>0.999997</td>\n",
       "      <td>3.431916e-06</td>\n",
       "      <td>1.0</td>\n",
       "      <td>2.964531e-03</td>\n",
       "    </tr>\n",
       "    <tr>\n",
       "      <th>...</th>\n",
       "      <td>...</td>\n",
       "      <td>...</td>\n",
       "      <td>...</td>\n",
       "      <td>...</td>\n",
       "      <td>...</td>\n",
       "      <td>...</td>\n",
       "      <td>...</td>\n",
       "      <td>...</td>\n",
       "      <td>...</td>\n",
       "      <td>...</td>\n",
       "      <td>...</td>\n",
       "    </tr>\n",
       "    <tr>\n",
       "      <th>BRD-A80017228-001-25-7::2.5::HTS</th>\n",
       "      <td>-0.003100</td>\n",
       "      <td>-0.222580</td>\n",
       "      <td>-0.046557</td>\n",
       "      <td>9.629021e-01</td>\n",
       "      <td>9.869115e-01</td>\n",
       "      <td>-5.949999</td>\n",
       "      <td>103</td>\n",
       "      <td>0.481451</td>\n",
       "      <td>5.185489e-01</td>\n",
       "      <td>1.0</td>\n",
       "      <td>7.555722e-01</td>\n",
       "    </tr>\n",
       "    <tr>\n",
       "      <th>BRD-K12568846-001-14-6::2.5::HTS</th>\n",
       "      <td>-0.001823</td>\n",
       "      <td>-0.202797</td>\n",
       "      <td>-0.030508</td>\n",
       "      <td>9.756855e-01</td>\n",
       "      <td>9.900722e-01</td>\n",
       "      <td>-5.950578</td>\n",
       "      <td>103</td>\n",
       "      <td>0.487843</td>\n",
       "      <td>5.121572e-01</td>\n",
       "      <td>1.0</td>\n",
       "      <td>7.509760e-01</td>\n",
       "    </tr>\n",
       "    <tr>\n",
       "      <th>BRD-K93645900-001-11-3::2.5::HTS</th>\n",
       "      <td>0.001713</td>\n",
       "      <td>-0.131231</td>\n",
       "      <td>0.025896</td>\n",
       "      <td>9.793600e-01</td>\n",
       "      <td>9.914031e-01</td>\n",
       "      <td>-5.950700</td>\n",
       "      <td>103</td>\n",
       "      <td>0.510320</td>\n",
       "      <td>4.896800e-01</td>\n",
       "      <td>1.0</td>\n",
       "      <td>7.331461e-01</td>\n",
       "    </tr>\n",
       "    <tr>\n",
       "      <th>BRD-K98251413-001-04-0::2.5::HTS</th>\n",
       "      <td>-0.001634</td>\n",
       "      <td>0.248261</td>\n",
       "      <td>-0.025651</td>\n",
       "      <td>9.795554e-01</td>\n",
       "      <td>9.914031e-01</td>\n",
       "      <td>-5.950706</td>\n",
       "      <td>103</td>\n",
       "      <td>0.489778</td>\n",
       "      <td>5.102223e-01</td>\n",
       "      <td>1.0</td>\n",
       "      <td>7.502045e-01</td>\n",
       "    </tr>\n",
       "    <tr>\n",
       "      <th>BRD-K97643133-003-09-3::2.5::HTS</th>\n",
       "      <td>-0.000059</td>\n",
       "      <td>-0.290905</td>\n",
       "      <td>-0.000731</td>\n",
       "      <td>9.994173e-01</td>\n",
       "      <td>9.998441e-01</td>\n",
       "      <td>-5.951014</td>\n",
       "      <td>103</td>\n",
       "      <td>0.499709</td>\n",
       "      <td>5.002913e-01</td>\n",
       "      <td>1.0</td>\n",
       "      <td>7.422675e-01</td>\n",
       "    </tr>\n",
       "  </tbody>\n",
       "</table>\n",
       "<p>4686 rows × 11 columns</p>\n",
       "</div>"
      ],
      "text/plain": [
       "                                  EffectSize       Avg    t_stat  \\\n",
       "Gene                                                               \n",
       "BRD-K62627508-001-01-5::2.5::HTS    1.300758 -0.526960  6.986768   \n",
       "BRD-K64925568-001-01-8::2.5::HTS    1.085902 -1.359209  6.592305   \n",
       "BRD-K79584249-001-01-3::2.5::HTS    1.019960 -0.403741  5.905866   \n",
       "BRD-K65924316-001-03-1::2.5::HTS    0.777775 -1.150624  5.214112   \n",
       "BRD-K99023089-001-03-7::2.5::HTS    0.558407 -0.408509  4.591955   \n",
       "...                                      ...       ...       ...   \n",
       "BRD-A80017228-001-25-7::2.5::HTS   -0.003100 -0.222580 -0.046557   \n",
       "BRD-K12568846-001-14-6::2.5::HTS   -0.001823 -0.202797 -0.030508   \n",
       "BRD-K93645900-001-11-3::2.5::HTS    0.001713 -0.131231  0.025896   \n",
       "BRD-K98251413-001-04-0::2.5::HTS   -0.001634  0.248261 -0.025651   \n",
       "BRD-K97643133-003-09-3::2.5::HTS   -0.000059 -0.290905 -0.000731   \n",
       "\n",
       "                                       p.value       q.value   log_odds  \\\n",
       "Gene                                                                      \n",
       "BRD-K62627508-001-01-5::2.5::HTS  2.365576e-11  1.108509e-07  14.871484   \n",
       "BRD-K64925568-001-01-8::2.5::HTS  2.453341e-10  5.748178e-07  12.746298   \n",
       "BRD-K79584249-001-01-3::2.5::HTS  1.123671e-08  1.755174e-05   9.289383   \n",
       "BRD-K65924316-001-03-1::2.5::HTS  3.816734e-07  4.471304e-04   6.112273   \n",
       "BRD-K99023089-001-03-7::2.5::HTS  6.863831e-06  5.929062e-03   3.520961   \n",
       "...                                        ...           ...        ...   \n",
       "BRD-A80017228-001-25-7::2.5::HTS  9.629021e-01  9.869115e-01  -5.949999   \n",
       "BRD-K12568846-001-14-6::2.5::HTS  9.756855e-01  9.900722e-01  -5.950578   \n",
       "BRD-K93645900-001-11-3::2.5::HTS  9.793600e-01  9.914031e-01  -5.950700   \n",
       "BRD-K98251413-001-04-0::2.5::HTS  9.795554e-01  9.914031e-01  -5.950706   \n",
       "BRD-K97643133-003-09-3::2.5::HTS  9.994173e-01  9.998441e-01  -5.951014   \n",
       "\n",
       "                                  min_samples    p.left       p.right  q.left  \\\n",
       "Gene                                                                            \n",
       "BRD-K62627508-001-01-5::2.5::HTS          103  1.000000  1.182788e-11     1.0   \n",
       "BRD-K64925568-001-01-8::2.5::HTS          102  1.000000  1.226670e-10     1.0   \n",
       "BRD-K79584249-001-01-3::2.5::HTS          100  1.000000  5.618356e-09     1.0   \n",
       "BRD-K65924316-001-03-1::2.5::HTS          101  1.000000  1.908367e-07     1.0   \n",
       "BRD-K99023089-001-03-7::2.5::HTS          102  0.999997  3.431916e-06     1.0   \n",
       "...                                       ...       ...           ...     ...   \n",
       "BRD-A80017228-001-25-7::2.5::HTS          103  0.481451  5.185489e-01     1.0   \n",
       "BRD-K12568846-001-14-6::2.5::HTS          103  0.487843  5.121572e-01     1.0   \n",
       "BRD-K93645900-001-11-3::2.5::HTS          103  0.510320  4.896800e-01     1.0   \n",
       "BRD-K98251413-001-04-0::2.5::HTS          103  0.489778  5.102223e-01     1.0   \n",
       "BRD-K97643133-003-09-3::2.5::HTS          103  0.499709  5.002913e-01     1.0   \n",
       "\n",
       "                                       q.right  \n",
       "Gene                                            \n",
       "BRD-K62627508-001-01-5::2.5::HTS  5.542543e-08  \n",
       "BRD-K64925568-001-01-8::2.5::HTS  2.874089e-07  \n",
       "BRD-K79584249-001-01-3::2.5::HTS  8.775872e-06  \n",
       "BRD-K65924316-001-03-1::2.5::HTS  2.235652e-04  \n",
       "BRD-K99023089-001-03-7::2.5::HTS  2.964531e-03  \n",
       "...                                        ...  \n",
       "BRD-A80017228-001-25-7::2.5::HTS  7.555722e-01  \n",
       "BRD-K12568846-001-14-6::2.5::HTS  7.509760e-01  \n",
       "BRD-K93645900-001-11-3::2.5::HTS  7.331461e-01  \n",
       "BRD-K98251413-001-04-0::2.5::HTS  7.502045e-01  \n",
       "BRD-K97643133-003-09-3::2.5::HTS  7.422675e-01  \n",
       "\n",
       "[4686 rows x 11 columns]"
      ]
     },
     "execution_count": 163,
     "metadata": {},
     "output_type": "execute_result"
    }
   ],
   "source": [
    "prism_primary"
   ]
  },
  {
   "cell_type": "code",
   "execution_count": 152,
   "metadata": {},
   "outputs": [],
   "source": [
    "# read in primary results\n",
    "prism_primary = pd.read_csv('Limma/drug_comparisons/prism_lineage_covariate_primary.csv',index_col=0)"
   ]
  },
  {
   "cell_type": "code",
   "execution_count": 154,
   "metadata": {},
   "outputs": [],
   "source": [
    "primary_replicate_treatment_info = tc.get(name='primary-screen-e5c7', version=8, file='primary_replicate_treatment_info')\n",
    "\n"
   ]
  },
  {
   "cell_type": "code",
   "execution_count": 162,
   "metadata": {},
   "outputs": [
    {
     "data": {
      "text/html": [
       "<div>\n",
       "<style scoped>\n",
       "    .dataframe tbody tr th:only-of-type {\n",
       "        vertical-align: middle;\n",
       "    }\n",
       "\n",
       "    .dataframe tbody tr th {\n",
       "        vertical-align: top;\n",
       "    }\n",
       "\n",
       "    .dataframe thead th {\n",
       "        text-align: right;\n",
       "    }\n",
       "</style>\n",
       "<table border=\"1\" class=\"dataframe\">\n",
       "  <thead>\n",
       "    <tr style=\"text-align: right;\">\n",
       "      <th></th>\n",
       "      <th>column_name</th>\n",
       "      <th>broad_id</th>\n",
       "      <th>name</th>\n",
       "      <th>dose</th>\n",
       "      <th>perturbation_type</th>\n",
       "      <th>screen_id</th>\n",
       "      <th>detection_plate</th>\n",
       "      <th>compound_plate</th>\n",
       "      <th>well</th>\n",
       "      <th>detection_plate_scan_time</th>\n",
       "      <th>vendor_id</th>\n",
       "      <th>purity</th>\n",
       "      <th>moa</th>\n",
       "      <th>target</th>\n",
       "      <th>disease.area</th>\n",
       "      <th>indication</th>\n",
       "      <th>smiles</th>\n",
       "      <th>phase</th>\n",
       "    </tr>\n",
       "    <tr>\n",
       "      <th>broad_id</th>\n",
       "      <th></th>\n",
       "      <th></th>\n",
       "      <th></th>\n",
       "      <th></th>\n",
       "      <th></th>\n",
       "      <th></th>\n",
       "      <th></th>\n",
       "      <th></th>\n",
       "      <th></th>\n",
       "      <th></th>\n",
       "      <th></th>\n",
       "      <th></th>\n",
       "      <th></th>\n",
       "      <th></th>\n",
       "      <th></th>\n",
       "      <th></th>\n",
       "      <th></th>\n",
       "      <th></th>\n",
       "    </tr>\n",
       "  </thead>\n",
       "  <tbody>\n",
       "    <tr>\n",
       "      <th>BRD-K60230970-001-14-2</th>\n",
       "      <td>PREP001_X1:A01::HTS</td>\n",
       "      <td>BRD-K60230970-001-14-2</td>\n",
       "      <td>MG-132</td>\n",
       "      <td>20.000000</td>\n",
       "      <td>positive_control</td>\n",
       "      <td>HTS</td>\n",
       "      <td>PREP001_X1</td>\n",
       "      <td>PREP001</td>\n",
       "      <td>A01</td>\n",
       "      <td>2/11/2016 10:09 AM</td>\n",
       "      <td>S2619</td>\n",
       "      <td>NaN</td>\n",
       "      <td>None</td>\n",
       "      <td>None</td>\n",
       "      <td>None</td>\n",
       "      <td>None</td>\n",
       "      <td>None</td>\n",
       "      <td>None</td>\n",
       "    </tr>\n",
       "    <tr>\n",
       "      <th>NaN</th>\n",
       "      <td>PREP001_X1:A02::HTS</td>\n",
       "      <td>None</td>\n",
       "      <td>None</td>\n",
       "      <td>NaN</td>\n",
       "      <td>vehicle_control</td>\n",
       "      <td>HTS</td>\n",
       "      <td>PREP001_X1</td>\n",
       "      <td>PREP001</td>\n",
       "      <td>A02</td>\n",
       "      <td>2/11/2016 10:09 AM</td>\n",
       "      <td>None</td>\n",
       "      <td>NaN</td>\n",
       "      <td>None</td>\n",
       "      <td>None</td>\n",
       "      <td>None</td>\n",
       "      <td>None</td>\n",
       "      <td>None</td>\n",
       "      <td>None</td>\n",
       "    </tr>\n",
       "    <tr>\n",
       "      <th>BRD-A96485169-001-14-3</th>\n",
       "      <td>PREP001_X1:A03::HTS</td>\n",
       "      <td>BRD-A96485169-001-14-3</td>\n",
       "      <td>EBPC</td>\n",
       "      <td>2.500000</td>\n",
       "      <td>experimental_treatment</td>\n",
       "      <td>HTS</td>\n",
       "      <td>PREP001_X1</td>\n",
       "      <td>PREP001</td>\n",
       "      <td>A03</td>\n",
       "      <td>2/11/2016 10:09 AM</td>\n",
       "      <td>518</td>\n",
       "      <td>91.11</td>\n",
       "      <td>aldose reductase inhibitor</td>\n",
       "      <td>AKR1B1</td>\n",
       "      <td>None</td>\n",
       "      <td>None</td>\n",
       "      <td>CCOC(=O)C1CN(Cc2ccccc2)C(=O)C1=O</td>\n",
       "      <td>Preclinical</td>\n",
       "    </tr>\n",
       "    <tr>\n",
       "      <th>BRD-K35559145-050-08-5</th>\n",
       "      <td>PREP001_X1:A04::HTS</td>\n",
       "      <td>BRD-K35559145-050-08-5</td>\n",
       "      <td>levomepromazine</td>\n",
       "      <td>2.500000</td>\n",
       "      <td>experimental_treatment</td>\n",
       "      <td>HTS</td>\n",
       "      <td>PREP001_X1</td>\n",
       "      <td>PREP001</td>\n",
       "      <td>A04</td>\n",
       "      <td>2/11/2016 10:09 AM</td>\n",
       "      <td>Prestw-797</td>\n",
       "      <td>76.90</td>\n",
       "      <td>dopamine receptor antagonist</td>\n",
       "      <td>ADRA1A, ADRA1B, ADRA1D, ADRA2A, ADRA2B, ADRA2C...</td>\n",
       "      <td>neurology/psychiatry, gastroenterology</td>\n",
       "      <td>psychosis, schizophrenia, bipolar disorder, na...</td>\n",
       "      <td>COc1ccc2Sc3ccccc3N(C[C@H](C)CN(C)C)c2c1, COc1c...</td>\n",
       "      <td>Launched</td>\n",
       "    </tr>\n",
       "    <tr>\n",
       "      <th>BRD-A48015106-004-08-9</th>\n",
       "      <td>PREP001_X1:A05::HTS</td>\n",
       "      <td>BRD-A48015106-004-08-9</td>\n",
       "      <td>8-hydroxy-DPAT</td>\n",
       "      <td>2.500000</td>\n",
       "      <td>experimental_treatment</td>\n",
       "      <td>HTS</td>\n",
       "      <td>PREP001_X1</td>\n",
       "      <td>PREP001</td>\n",
       "      <td>A05</td>\n",
       "      <td>2/11/2016 10:09 AM</td>\n",
       "      <td>529</td>\n",
       "      <td>93.13</td>\n",
       "      <td>serotonin receptor agonist</td>\n",
       "      <td>CDK1, CHEK1, CHEK2, GSK3B, HTR5A, HTR7, LCK, M...</td>\n",
       "      <td>None</td>\n",
       "      <td>None</td>\n",
       "      <td>CCCN(CCC)C1CCc2cccc(O)c2C1</td>\n",
       "      <td>Preclinical</td>\n",
       "    </tr>\n",
       "    <tr>\n",
       "      <th>...</th>\n",
       "      <td>...</td>\n",
       "      <td>...</td>\n",
       "      <td>...</td>\n",
       "      <td>...</td>\n",
       "      <td>...</td>\n",
       "      <td>...</td>\n",
       "      <td>...</td>\n",
       "      <td>...</td>\n",
       "      <td>...</td>\n",
       "      <td>...</td>\n",
       "      <td>...</td>\n",
       "      <td>...</td>\n",
       "      <td>...</td>\n",
       "      <td>...</td>\n",
       "      <td>...</td>\n",
       "      <td>...</td>\n",
       "      <td>...</td>\n",
       "      <td>...</td>\n",
       "    </tr>\n",
       "    <tr>\n",
       "      <th>BRD-K50691590-001-04-8</th>\n",
       "      <td>PMTS003_X3:O24::MTS004</td>\n",
       "      <td>BRD-K50691590-001-04-8</td>\n",
       "      <td>bortezomib</td>\n",
       "      <td>20.002434</td>\n",
       "      <td>positive_control</td>\n",
       "      <td>MTS004</td>\n",
       "      <td>PMTS003_X3</td>\n",
       "      <td>PMTS003</td>\n",
       "      <td>O24</td>\n",
       "      <td>None</td>\n",
       "      <td>None</td>\n",
       "      <td>NaN</td>\n",
       "      <td>None</td>\n",
       "      <td>None</td>\n",
       "      <td>None</td>\n",
       "      <td>None</td>\n",
       "      <td>None</td>\n",
       "      <td>None</td>\n",
       "    </tr>\n",
       "    <tr>\n",
       "      <th>BRD-K50691590-001-04-8</th>\n",
       "      <td>PMTS003_X3:P01::MTS004</td>\n",
       "      <td>BRD-K50691590-001-04-8</td>\n",
       "      <td>bortezomib</td>\n",
       "      <td>20.002434</td>\n",
       "      <td>positive_control</td>\n",
       "      <td>MTS004</td>\n",
       "      <td>PMTS003_X3</td>\n",
       "      <td>PMTS003</td>\n",
       "      <td>P01</td>\n",
       "      <td>None</td>\n",
       "      <td>None</td>\n",
       "      <td>NaN</td>\n",
       "      <td>None</td>\n",
       "      <td>None</td>\n",
       "      <td>None</td>\n",
       "      <td>None</td>\n",
       "      <td>None</td>\n",
       "      <td>None</td>\n",
       "    </tr>\n",
       "    <tr>\n",
       "      <th>NaN</th>\n",
       "      <td>PMTS003_X3:P02::MTS004</td>\n",
       "      <td>None</td>\n",
       "      <td>None</td>\n",
       "      <td>NaN</td>\n",
       "      <td>vehicle_control</td>\n",
       "      <td>MTS004</td>\n",
       "      <td>PMTS003_X3</td>\n",
       "      <td>PMTS003</td>\n",
       "      <td>P02</td>\n",
       "      <td>None</td>\n",
       "      <td>None</td>\n",
       "      <td>NaN</td>\n",
       "      <td>None</td>\n",
       "      <td>None</td>\n",
       "      <td>None</td>\n",
       "      <td>None</td>\n",
       "      <td>None</td>\n",
       "      <td>None</td>\n",
       "    </tr>\n",
       "    <tr>\n",
       "      <th>NaN</th>\n",
       "      <td>PMTS003_X3:P23::MTS004</td>\n",
       "      <td>None</td>\n",
       "      <td>None</td>\n",
       "      <td>NaN</td>\n",
       "      <td>vehicle_control</td>\n",
       "      <td>MTS004</td>\n",
       "      <td>PMTS003_X3</td>\n",
       "      <td>PMTS003</td>\n",
       "      <td>P23</td>\n",
       "      <td>None</td>\n",
       "      <td>None</td>\n",
       "      <td>NaN</td>\n",
       "      <td>None</td>\n",
       "      <td>None</td>\n",
       "      <td>None</td>\n",
       "      <td>None</td>\n",
       "      <td>None</td>\n",
       "      <td>None</td>\n",
       "    </tr>\n",
       "    <tr>\n",
       "      <th>BRD-K50691590-001-04-8</th>\n",
       "      <td>PMTS003_X3:P24::MTS004</td>\n",
       "      <td>BRD-K50691590-001-04-8</td>\n",
       "      <td>bortezomib</td>\n",
       "      <td>20.002434</td>\n",
       "      <td>positive_control</td>\n",
       "      <td>MTS004</td>\n",
       "      <td>PMTS003_X3</td>\n",
       "      <td>PMTS003</td>\n",
       "      <td>P24</td>\n",
       "      <td>None</td>\n",
       "      <td>None</td>\n",
       "      <td>NaN</td>\n",
       "      <td>None</td>\n",
       "      <td>None</td>\n",
       "      <td>None</td>\n",
       "      <td>None</td>\n",
       "      <td>None</td>\n",
       "      <td>None</td>\n",
       "    </tr>\n",
       "  </tbody>\n",
       "</table>\n",
       "<p>17058 rows × 18 columns</p>\n",
       "</div>"
      ],
      "text/plain": [
       "                                   column_name                broad_id  \\\n",
       "broad_id                                                                 \n",
       "BRD-K60230970-001-14-2     PREP001_X1:A01::HTS  BRD-K60230970-001-14-2   \n",
       "NaN                        PREP001_X1:A02::HTS                    None   \n",
       "BRD-A96485169-001-14-3     PREP001_X1:A03::HTS  BRD-A96485169-001-14-3   \n",
       "BRD-K35559145-050-08-5     PREP001_X1:A04::HTS  BRD-K35559145-050-08-5   \n",
       "BRD-A48015106-004-08-9     PREP001_X1:A05::HTS  BRD-A48015106-004-08-9   \n",
       "...                                        ...                     ...   \n",
       "BRD-K50691590-001-04-8  PMTS003_X3:O24::MTS004  BRD-K50691590-001-04-8   \n",
       "BRD-K50691590-001-04-8  PMTS003_X3:P01::MTS004  BRD-K50691590-001-04-8   \n",
       "NaN                     PMTS003_X3:P02::MTS004                    None   \n",
       "NaN                     PMTS003_X3:P23::MTS004                    None   \n",
       "BRD-K50691590-001-04-8  PMTS003_X3:P24::MTS004  BRD-K50691590-001-04-8   \n",
       "\n",
       "                                   name       dose       perturbation_type  \\\n",
       "broad_id                                                                     \n",
       "BRD-K60230970-001-14-2           MG-132  20.000000        positive_control   \n",
       "NaN                                None        NaN         vehicle_control   \n",
       "BRD-A96485169-001-14-3             EBPC   2.500000  experimental_treatment   \n",
       "BRD-K35559145-050-08-5  levomepromazine   2.500000  experimental_treatment   \n",
       "BRD-A48015106-004-08-9   8-hydroxy-DPAT   2.500000  experimental_treatment   \n",
       "...                                 ...        ...                     ...   \n",
       "BRD-K50691590-001-04-8       bortezomib  20.002434        positive_control   \n",
       "BRD-K50691590-001-04-8       bortezomib  20.002434        positive_control   \n",
       "NaN                                None        NaN         vehicle_control   \n",
       "NaN                                None        NaN         vehicle_control   \n",
       "BRD-K50691590-001-04-8       bortezomib  20.002434        positive_control   \n",
       "\n",
       "                       screen_id detection_plate compound_plate well  \\\n",
       "broad_id                                                               \n",
       "BRD-K60230970-001-14-2       HTS      PREP001_X1        PREP001  A01   \n",
       "NaN                          HTS      PREP001_X1        PREP001  A02   \n",
       "BRD-A96485169-001-14-3       HTS      PREP001_X1        PREP001  A03   \n",
       "BRD-K35559145-050-08-5       HTS      PREP001_X1        PREP001  A04   \n",
       "BRD-A48015106-004-08-9       HTS      PREP001_X1        PREP001  A05   \n",
       "...                          ...             ...            ...  ...   \n",
       "BRD-K50691590-001-04-8    MTS004      PMTS003_X3        PMTS003  O24   \n",
       "BRD-K50691590-001-04-8    MTS004      PMTS003_X3        PMTS003  P01   \n",
       "NaN                       MTS004      PMTS003_X3        PMTS003  P02   \n",
       "NaN                       MTS004      PMTS003_X3        PMTS003  P23   \n",
       "BRD-K50691590-001-04-8    MTS004      PMTS003_X3        PMTS003  P24   \n",
       "\n",
       "                       detection_plate_scan_time   vendor_id  purity  \\\n",
       "broad_id                                                               \n",
       "BRD-K60230970-001-14-2        2/11/2016 10:09 AM       S2619     NaN   \n",
       "NaN                           2/11/2016 10:09 AM        None     NaN   \n",
       "BRD-A96485169-001-14-3        2/11/2016 10:09 AM         518   91.11   \n",
       "BRD-K35559145-050-08-5        2/11/2016 10:09 AM  Prestw-797   76.90   \n",
       "BRD-A48015106-004-08-9        2/11/2016 10:09 AM         529   93.13   \n",
       "...                                          ...         ...     ...   \n",
       "BRD-K50691590-001-04-8                      None        None     NaN   \n",
       "BRD-K50691590-001-04-8                      None        None     NaN   \n",
       "NaN                                         None        None     NaN   \n",
       "NaN                                         None        None     NaN   \n",
       "BRD-K50691590-001-04-8                      None        None     NaN   \n",
       "\n",
       "                                                 moa  \\\n",
       "broad_id                                               \n",
       "BRD-K60230970-001-14-2                          None   \n",
       "NaN                                             None   \n",
       "BRD-A96485169-001-14-3    aldose reductase inhibitor   \n",
       "BRD-K35559145-050-08-5  dopamine receptor antagonist   \n",
       "BRD-A48015106-004-08-9    serotonin receptor agonist   \n",
       "...                                              ...   \n",
       "BRD-K50691590-001-04-8                          None   \n",
       "BRD-K50691590-001-04-8                          None   \n",
       "NaN                                             None   \n",
       "NaN                                             None   \n",
       "BRD-K50691590-001-04-8                          None   \n",
       "\n",
       "                                                                   target  \\\n",
       "broad_id                                                                    \n",
       "BRD-K60230970-001-14-2                                               None   \n",
       "NaN                                                                  None   \n",
       "BRD-A96485169-001-14-3                                             AKR1B1   \n",
       "BRD-K35559145-050-08-5  ADRA1A, ADRA1B, ADRA1D, ADRA2A, ADRA2B, ADRA2C...   \n",
       "BRD-A48015106-004-08-9  CDK1, CHEK1, CHEK2, GSK3B, HTR5A, HTR7, LCK, M...   \n",
       "...                                                                   ...   \n",
       "BRD-K50691590-001-04-8                                               None   \n",
       "BRD-K50691590-001-04-8                                               None   \n",
       "NaN                                                                  None   \n",
       "NaN                                                                  None   \n",
       "BRD-K50691590-001-04-8                                               None   \n",
       "\n",
       "                                                  disease.area  \\\n",
       "broad_id                                                         \n",
       "BRD-K60230970-001-14-2                                    None   \n",
       "NaN                                                       None   \n",
       "BRD-A96485169-001-14-3                                    None   \n",
       "BRD-K35559145-050-08-5  neurology/psychiatry, gastroenterology   \n",
       "BRD-A48015106-004-08-9                                    None   \n",
       "...                                                        ...   \n",
       "BRD-K50691590-001-04-8                                    None   \n",
       "BRD-K50691590-001-04-8                                    None   \n",
       "NaN                                                       None   \n",
       "NaN                                                       None   \n",
       "BRD-K50691590-001-04-8                                    None   \n",
       "\n",
       "                                                               indication  \\\n",
       "broad_id                                                                    \n",
       "BRD-K60230970-001-14-2                                               None   \n",
       "NaN                                                                  None   \n",
       "BRD-A96485169-001-14-3                                               None   \n",
       "BRD-K35559145-050-08-5  psychosis, schizophrenia, bipolar disorder, na...   \n",
       "BRD-A48015106-004-08-9                                               None   \n",
       "...                                                                   ...   \n",
       "BRD-K50691590-001-04-8                                               None   \n",
       "BRD-K50691590-001-04-8                                               None   \n",
       "NaN                                                                  None   \n",
       "NaN                                                                  None   \n",
       "BRD-K50691590-001-04-8                                               None   \n",
       "\n",
       "                                                                   smiles  \\\n",
       "broad_id                                                                    \n",
       "BRD-K60230970-001-14-2                                               None   \n",
       "NaN                                                                  None   \n",
       "BRD-A96485169-001-14-3                   CCOC(=O)C1CN(Cc2ccccc2)C(=O)C1=O   \n",
       "BRD-K35559145-050-08-5  COc1ccc2Sc3ccccc3N(C[C@H](C)CN(C)C)c2c1, COc1c...   \n",
       "BRD-A48015106-004-08-9                         CCCN(CCC)C1CCc2cccc(O)c2C1   \n",
       "...                                                                   ...   \n",
       "BRD-K50691590-001-04-8                                               None   \n",
       "BRD-K50691590-001-04-8                                               None   \n",
       "NaN                                                                  None   \n",
       "NaN                                                                  None   \n",
       "BRD-K50691590-001-04-8                                               None   \n",
       "\n",
       "                              phase  \n",
       "broad_id                             \n",
       "BRD-K60230970-001-14-2         None  \n",
       "NaN                            None  \n",
       "BRD-A96485169-001-14-3  Preclinical  \n",
       "BRD-K35559145-050-08-5     Launched  \n",
       "BRD-A48015106-004-08-9  Preclinical  \n",
       "...                             ...  \n",
       "BRD-K50691590-001-04-8         None  \n",
       "BRD-K50691590-001-04-8         None  \n",
       "NaN                            None  \n",
       "NaN                            None  \n",
       "BRD-K50691590-001-04-8         None  \n",
       "\n",
       "[17058 rows x 18 columns]"
      ]
     },
     "execution_count": 162,
     "metadata": {},
     "output_type": "execute_result"
    }
   ],
   "source": [
    "primary_replicate_treatment_info"
   ]
  },
  {
   "cell_type": "code",
   "execution_count": 158,
   "metadata": {},
   "outputs": [],
   "source": [
    "primary_replicate_treatment_info.index = primary_replicate_treatment_info.loc[:,'broad_id']\n"
   ]
  },
  {
   "cell_type": "code",
   "execution_count": 164,
   "metadata": {},
   "outputs": [],
   "source": [
    "primary_replicate_collapsed_treatment_info.index = primary_replicate_collapsed_treatment_info.loc[:,'column_name']"
   ]
  },
  {
   "cell_type": "code",
   "execution_count": 166,
   "metadata": {},
   "outputs": [],
   "source": [
    "protos_prism_primary = []\n",
    "for x in primary_replicate_collapsed_treatment_info.index:\n",
    "    if primary_replicate_collapsed_treatment_info.loc[x,'moa'] != None:\n",
    "        if 'proteasome' in primary_replicate_collapsed_treatment_info.loc[x,'moa'].lower():\n",
    "            protos_prism_primary.append(x)"
   ]
  },
  {
   "cell_type": "code",
   "execution_count": 167,
   "metadata": {},
   "outputs": [
    {
     "data": {
      "text/plain": [
       "['BRD-A36331462-001-02-1::2.5::HTS',\n",
       " 'BRD-A66419424-001-02-4::2.5::HTS',\n",
       " 'BRD-K15179879-001-03-2::2.5::HTS',\n",
       " 'BRD-K59325863-001-02-8::2.5::HTS',\n",
       " 'BRD-K59325863-001-03-6::2.46::HTS',\n",
       " 'BRD-K60230970-001-17-5::2.4::HTS',\n",
       " 'BRD-K60446698-001-01-2::2.5::HTS',\n",
       " 'BRD-K78659596-001-03-9::2.5::HTS',\n",
       " 'BRD-K88510285-001-11-1::2.5::HTS']"
      ]
     },
     "execution_count": 167,
     "metadata": {},
     "output_type": "execute_result"
    }
   ],
   "source": [
    "protos_prism_primary"
   ]
  },
  {
   "cell_type": "code",
   "execution_count": 171,
   "metadata": {},
   "outputs": [
    {
     "data": {
      "text/plain": [
       "<matplotlib.legend.Legend at 0x1a2b1435f8>"
      ]
     },
     "execution_count": 171,
     "metadata": {},
     "output_type": "execute_result"
    },
    {
     "data": {
      "image/png": "[encoded data removed]",
      "text/plain": [
       "<Figure size 432x288 with 1 Axes>"
      ]
     },
     "metadata": {},
     "output_type": "display_data"
    }
   ],
   "source": [
    "prism = pd.read_csv('Limma/drug_comparisons/prism_lineage_covariate_primary.csv',index_col=0)\n",
    "\n",
    "\n",
    "\n",
    "drug_name_prism = 'MPI-0479605'\n",
    "\n",
    "\n",
    "fix,ax = plt.subplots()\n",
    "plt.scatter(prism.loc[:,'EffectSize'],-np.log10(prism.loc[:,'p.value']),alpha=.2,color='gray',s=10,label=None)\n",
    "plt.scatter(prism.loc[protos_prism_primary,'EffectSize'],-np.log10(prism.loc[protos_prism_primary,'p.value']),alpha=1,color='red',s=20,label='proteasome inhibitors')\n",
    "\n",
    "#plt.xlim(-1.3,1.3)\n",
    "plt.xlabel('effect size')\n",
    "plt.ylabel('-log10(p-value)')\n",
    "plt.title('PRISM (lineage as covariate) PRIMARY')\n",
    "plotting.simpleaxis(ax)\n",
    "\n",
    "\n",
    "# texts = []\n",
    "# for txt in sorted([drug_name_prism]):#,'KIF18A (81930)']):\n",
    "#     texts.append(plt.text(prism.loc[txt,'EffectSize'], -np.log10(prism.loc[txt,'p.value']),'MPS1 inhibitor\\n(' + txt.split(' ')[0] + ')',color='black'))\n",
    "# adjust_text(texts)\n",
    "plt.legend()\n",
    "#plt.savefig('fig3b/prism_proteasome_primary.png')"
   ]
  },
  {
   "cell_type": "code",
   "execution_count": null,
   "metadata": {},
   "outputs": [],
   "source": []
  },
  {
   "cell_type": "code",
   "execution_count": null,
   "metadata": {},
   "outputs": [],
   "source": []
  },
  {
   "cell_type": "code",
   "execution_count": 3,
   "metadata": {},
   "outputs": [],
   "source": [
    "from taigapy import TaigaClient\n",
    "tc = TaigaClient()\n",
    "\n",
    "ctd_matrix = tc.get(name='aneuploidy-data-d0b9', version=7, file='ctd_matrix')\n",
    "sanger_matrix = tc.get(name='aneuploidy-data-d0b9', version=7, file='sanger_matrix')\n",
    "prism_matrix = tc.get(name='aneuploidy-data-d0b9', version=7, file='secondary_matrix')\n",
    "\n",
    "\n",
    "\n",
    "primary_replicate_collapsed_logfold_change = tc.get(name='primary-screen-e5c7', version=8, file='primary_replicate_collapsed_logfold_change')\n",
    "primary_replicate_collapsed_treatment_info = tc.get(name='primary-screen-e5c7', version=8, file='primary_replicate_collapsed_treatment_info')\n",
    "primary_replicate_treatment_info = tc.get(name='primary-screen-e5c7', version=8, file='primary_replicate_treatment_info')\n",
    "\n"
   ]
  },
  {
   "cell_type": "code",
   "execution_count": 4,
   "metadata": {},
   "outputs": [],
   "source": [
    "protos = []\n",
    "\n",
    "for x in primary_replicate_collapsed_treatment_info.loc[:,'moa'].index:\n",
    "    if x==None:\n",
    "        continue\n",
    "    if  primary_replicate_collapsed_treatment_info.iloc[x].loc['moa'] != None:\n",
    "        if 'proteasome' in primary_replicate_collapsed_treatment_info.iloc[x].loc['moa']:\n",
    "            protos.append(x)"
   ]
  },
  {
   "cell_type": "code",
   "execution_count": 5,
   "metadata": {},
   "outputs": [
    {
     "ename": "NameError",
     "evalue": "name 'v20_meta_per_compound' is not defined",
     "output_type": "error",
     "traceback": [
      "\u001b[0;31m---------------------------------------------------------------------------\u001b[0m",
      "\u001b[0;31mNameError\u001b[0m                                 Traceback (most recent call last)",
      "\u001b[0;32m<ipython-input-5-aaaed576da3d>\u001b[0m in \u001b[0;36m<module>\u001b[0;34m()\u001b[0m\n\u001b[0;32m----> 1\u001b[0;31m \u001b[0mCTD_protos\u001b[0m \u001b[0;34m=\u001b[0m \u001b[0mv20_meta_per_compound\u001b[0m\u001b[0;34m.\u001b[0m\u001b[0miloc\u001b[0m\u001b[0;34m[\u001b[0m\u001b[0mprotos_ctd\u001b[0m\u001b[0;34m]\u001b[0m\u001b[0;34m.\u001b[0m\u001b[0mloc\u001b[0m\u001b[0;34m[\u001b[0m\u001b[0;34m:\u001b[0m\u001b[0;34m,\u001b[0m\u001b[0;34m'cpd_name'\u001b[0m\u001b[0;34m]\u001b[0m\u001b[0;34m.\u001b[0m\u001b[0mvalues\u001b[0m\u001b[0;34m\u001b[0m\u001b[0;34m\u001b[0m\u001b[0m\n\u001b[0m",
      "\u001b[0;31mNameError\u001b[0m: name 'v20_meta_per_compound' is not defined"
     ]
    }
   ],
   "source": [
    "CTD_protos = v20_meta_per_compound.iloc[protos_ctd].loc[:,'cpd_name'].values"
   ]
  },
  {
   "cell_type": "code",
   "execution_count": null,
   "metadata": {},
   "outputs": [],
   "source": [
    "protos_ctd = []\n",
    "\n",
    "for x in v20_meta_per_compound.loc[:,'target_or_activity_of_compound'].index:\n",
    "    if x==None:\n",
    "        continue\n",
    "    if  v20_meta_per_compound.loc[x,'target_or_activity_of_compound'] != None:\n",
    "        if 'proteasome' in v20_meta_per_compound.loc[x,'target_or_activity_of_compound']:\n",
    "            protos_ctd.append(x)"
   ]
  },
  {
   "cell_type": "code",
   "execution_count": 93,
   "metadata": {},
   "outputs": [],
   "source": [
    "v20_meta_per_compound = tc.get(name='ctrp-v2-9f98', version=1, file='v20.meta.per_compound')"
   ]
  },
  {
   "cell_type": "code",
   "execution_count": 7,
   "metadata": {},
   "outputs": [
    {
     "ename": "NameError",
     "evalue": "name 'prots_gdsc' is not defined",
     "output_type": "error",
     "traceback": [
      "\u001b[0;31m---------------------------------------------------------------------------\u001b[0m",
      "\u001b[0;31mNameError\u001b[0m                                 Traceback (most recent call last)",
      "\u001b[0;32m<ipython-input-7-652f1b7984a0>\u001b[0m in \u001b[0;36m<module>\u001b[0;34m()\u001b[0m\n\u001b[0;32m----> 1\u001b[0;31m \u001b[0mprots_gdsc\u001b[0m\u001b[0;34m\u001b[0m\u001b[0;34m\u001b[0m\u001b[0m\n\u001b[0m",
      "\u001b[0;31mNameError\u001b[0m: name 'prots_gdsc' is not defined"
     ]
    }
   ],
   "source": [
    "prots_gdsc"
   ]
  },
  {
   "cell_type": "code",
   "execution_count": 144,
   "metadata": {},
   "outputs": [
    {
     "data": {
      "text/plain": [
       "-0.00825024206120499"
      ]
     },
     "execution_count": 144,
     "metadata": {},
     "output_type": "execute_result"
    }
   ],
   "source": [
    "prism.loc[:,'EffectSize'].sort_values().loc['LY2801653']"
   ]
  },
  {
   "cell_type": "code",
   "execution_count": 149,
   "metadata": {},
   "outputs": [
    {
     "data": {
      "image/png": "[encoded data removed]",
      "text/plain": [
       "<Figure size 432x288 with 1 Axes>"
      ]
     },
     "metadata": {},
     "output_type": "display_data"
    }
   ],
   "source": [
    "prism = pd.read_csv('Limma/drug_comparisons/prism_lineage_covariate.csv',index_col=0)\n",
    "\n",
    "proto_drugs_prisme = set(primary_replicate_collapsed_treatment_info.iloc[protos].loc[:,'name'].values)\n",
    "\n",
    "\n",
    "drug_name_prism = 'MPI-0479605'\n",
    "\n",
    "\n",
    "fix,ax = plt.subplots()\n",
    "plt.scatter(prism.loc[:,'EffectSize'],-np.log10(prism.loc[:,'p.value']),alpha=.2,color='gray',s=10,label=None)\n",
    "plt.scatter(prism.loc[proto_drugs_prisme,'EffectSize'],-np.log10(prism.loc[proto_drugs_prisme,'p.value']),alpha=1,color='red',s=20,label='proteasome inhibitors')\n",
    "\n",
    "#plt.xlim(-1.3,1.3)\n",
    "plt.xlabel('effect size')\n",
    "plt.ylabel('-log10(p-value)')\n",
    "plt.title('PRISM secondary (lineage as covariate)')\n",
    "plotting.simpleaxis(ax)\n",
    "\n",
    "\n",
    "# texts = []\n",
    "# for txt in sorted([drug_name_prism]):#,'KIF18A (81930)']):\n",
    "#     texts.append(plt.text(prism.loc[txt,'EffectSize'], -np.log10(prism.loc[txt,'p.value']),'MPS1 inhibitor\\n(' + txt.split(' ')[0] + ')',color='black'))\n",
    "# adjust_text(texts)\n",
    "plt.legend()\n",
    "plt.savefig('fig3b/prism_proteasome.png')"
   ]
  },
  {
   "cell_type": "code",
   "execution_count": 117,
   "metadata": {},
   "outputs": [],
   "source": [
    "# prism = pd.read_csv('Limma/drug_comparisons/prism_lineage_covariate.csv',index_col=0)\n",
    "\n",
    "\n",
    "# drug_name_prism = 'MPI-0479605'\n",
    "\n",
    "\n",
    "# fix,ax = plt.subplots()\n",
    "# plt.scatter(prism.loc[:,'EffectSize'],-np.log10(prism.loc[:,'p.value']),alpha=.2,color='gray',s=10)\n",
    "# plt.scatter(prism.loc[drug_name_prism,'EffectSize'],-np.log10(prism.loc[drug_name_prism,'p.value']),alpha=1,color='red',s=40)\n",
    "\n",
    "# #plt.xlim(-1.3,1.3)\n",
    "# plt.xlabel('effect size')\n",
    "# plt.ylabel('-log10(p-value)')\n",
    "# plt.title('PRISM')\n",
    "# plotting.simpleaxis(ax)\n",
    "\n",
    "\n",
    "# texts = []\n",
    "# for txt in sorted([drug_name_prism]):#,'KIF18A (81930)']):\n",
    "#     texts.append(plt.text(prism.loc[txt,'EffectSize'], -np.log10(prism.loc[txt,'p.value']),'MPS1 inhibitor\\n(' + txt.split(' ')[0] + ')',color='black'))\n",
    "# adjust_text(texts)\n",
    "# # plt.savefig('fig3b/prism_lineage_as_covariate.pdf')"
   ]
  },
  {
   "cell_type": "code",
   "execution_count": null,
   "metadata": {},
   "outputs": [],
   "source": []
  },
  {
   "cell_type": "code",
   "execution_count": 10,
   "metadata": {},
   "outputs": [
    {
     "ename": "KeyError",
     "evalue": "\"None of [Index(['MG-132', 'BORTEZOMIB'], dtype='object', name='Gene')] are in the [index]\"",
     "output_type": "error",
     "traceback": [
      "\u001b[0;31m---------------------------------------------------------------------------\u001b[0m",
      "\u001b[0;31mKeyError\u001b[0m                                  Traceback (most recent call last)",
      "\u001b[0;32m<ipython-input-10-b6e92ab1a20f>\u001b[0m in \u001b[0;36m<module>\u001b[0;34m()\u001b[0m\n\u001b[1;32m      1\u001b[0m \u001b[0;31m# prots_gdsc_ = []\u001b[0m\u001b[0;34m\u001b[0m\u001b[0;34m\u001b[0m\u001b[0;34m\u001b[0m\u001b[0m\n\u001b[1;32m      2\u001b[0m \u001b[0;31m# for x in prots_gdsc: prots_gdsc_.append(x.upper())\u001b[0m\u001b[0;34m\u001b[0m\u001b[0;34m\u001b[0m\u001b[0;34m\u001b[0m\u001b[0m\n\u001b[0;32m----> 3\u001b[0;31m \u001b[0mGDSC\u001b[0m\u001b[0;34m.\u001b[0m\u001b[0mloc\u001b[0m\u001b[0;34m[\u001b[0m\u001b[0mprots_gdsc_\u001b[0m\u001b[0;34m,\u001b[0m\u001b[0;34m'EffectSize'\u001b[0m\u001b[0;34m]\u001b[0m\u001b[0;34m\u001b[0m\u001b[0;34m\u001b[0m\u001b[0m\n\u001b[0m",
      "\u001b[0;32m~/miniconda3/lib/python3.6/site-packages/pandas/core/indexing.py\u001b[0m in \u001b[0;36m__getitem__\u001b[0;34m(self, key)\u001b[0m\n\u001b[1;32m   1416\u001b[0m                 \u001b[0;32mexcept\u001b[0m \u001b[0;34m(\u001b[0m\u001b[0mKeyError\u001b[0m\u001b[0;34m,\u001b[0m \u001b[0mIndexError\u001b[0m\u001b[0;34m,\u001b[0m \u001b[0mAttributeError\u001b[0m\u001b[0;34m)\u001b[0m\u001b[0;34m:\u001b[0m\u001b[0;34m\u001b[0m\u001b[0;34m\u001b[0m\u001b[0m\n\u001b[1;32m   1417\u001b[0m                     \u001b[0;32mpass\u001b[0m\u001b[0;34m\u001b[0m\u001b[0;34m\u001b[0m\u001b[0m\n\u001b[0;32m-> 1418\u001b[0;31m             \u001b[0;32mreturn\u001b[0m \u001b[0mself\u001b[0m\u001b[0;34m.\u001b[0m\u001b[0m_getitem_tuple\u001b[0m\u001b[0;34m(\u001b[0m\u001b[0mkey\u001b[0m\u001b[0;34m)\u001b[0m\u001b[0;34m\u001b[0m\u001b[0;34m\u001b[0m\u001b[0m\n\u001b[0m\u001b[1;32m   1419\u001b[0m         \u001b[0;32melse\u001b[0m\u001b[0;34m:\u001b[0m\u001b[0;34m\u001b[0m\u001b[0;34m\u001b[0m\u001b[0m\n\u001b[1;32m   1420\u001b[0m             \u001b[0;31m# we by definition only have the 0th axis\u001b[0m\u001b[0;34m\u001b[0m\u001b[0;34m\u001b[0m\u001b[0;34m\u001b[0m\u001b[0m\n",
      "\u001b[0;32m~/miniconda3/lib/python3.6/site-packages/pandas/core/indexing.py\u001b[0m in \u001b[0;36m_getitem_tuple\u001b[0;34m(self, tup)\u001b[0m\n\u001b[1;32m    803\u001b[0m     \u001b[0;32mdef\u001b[0m \u001b[0m_getitem_tuple\u001b[0m\u001b[0;34m(\u001b[0m\u001b[0mself\u001b[0m\u001b[0;34m,\u001b[0m \u001b[0mtup\u001b[0m\u001b[0;34m)\u001b[0m\u001b[0;34m:\u001b[0m\u001b[0;34m\u001b[0m\u001b[0;34m\u001b[0m\u001b[0m\n\u001b[1;32m    804\u001b[0m         \u001b[0;32mtry\u001b[0m\u001b[0;34m:\u001b[0m\u001b[0;34m\u001b[0m\u001b[0;34m\u001b[0m\u001b[0m\n\u001b[0;32m--> 805\u001b[0;31m             \u001b[0;32mreturn\u001b[0m \u001b[0mself\u001b[0m\u001b[0;34m.\u001b[0m\u001b[0m_getitem_lowerdim\u001b[0m\u001b[0;34m(\u001b[0m\u001b[0mtup\u001b[0m\u001b[0;34m)\u001b[0m\u001b[0;34m\u001b[0m\u001b[0;34m\u001b[0m\u001b[0m\n\u001b[0m\u001b[1;32m    806\u001b[0m         \u001b[0;32mexcept\u001b[0m \u001b[0mIndexingError\u001b[0m\u001b[0;34m:\u001b[0m\u001b[0;34m\u001b[0m\u001b[0;34m\u001b[0m\u001b[0m\n\u001b[1;32m    807\u001b[0m             \u001b[0;32mpass\u001b[0m\u001b[0;34m\u001b[0m\u001b[0;34m\u001b[0m\u001b[0m\n",
      "\u001b[0;32m~/miniconda3/lib/python3.6/site-packages/pandas/core/indexing.py\u001b[0m in \u001b[0;36m_getitem_lowerdim\u001b[0;34m(self, tup)\u001b[0m\n\u001b[1;32m    959\u001b[0m                     \u001b[0;32mreturn\u001b[0m \u001b[0msection\u001b[0m\u001b[0;34m\u001b[0m\u001b[0;34m\u001b[0m\u001b[0m\n\u001b[1;32m    960\u001b[0m                 \u001b[0;31m# This is an elided recursive call to iloc/loc/etc'\u001b[0m\u001b[0;34m\u001b[0m\u001b[0;34m\u001b[0m\u001b[0;34m\u001b[0m\u001b[0m\n\u001b[0;32m--> 961\u001b[0;31m                 \u001b[0;32mreturn\u001b[0m \u001b[0mgetattr\u001b[0m\u001b[0;34m(\u001b[0m\u001b[0msection\u001b[0m\u001b[0;34m,\u001b[0m \u001b[0mself\u001b[0m\u001b[0;34m.\u001b[0m\u001b[0mname\u001b[0m\u001b[0;34m)\u001b[0m\u001b[0;34m[\u001b[0m\u001b[0mnew_key\u001b[0m\u001b[0;34m]\u001b[0m\u001b[0;34m\u001b[0m\u001b[0;34m\u001b[0m\u001b[0m\n\u001b[0m\u001b[1;32m    962\u001b[0m \u001b[0;34m\u001b[0m\u001b[0m\n\u001b[1;32m    963\u001b[0m         \u001b[0;32mraise\u001b[0m \u001b[0mIndexingError\u001b[0m\u001b[0;34m(\u001b[0m\u001b[0;34m\"not applicable\"\u001b[0m\u001b[0;34m)\u001b[0m\u001b[0;34m\u001b[0m\u001b[0;34m\u001b[0m\u001b[0m\n",
      "\u001b[0;32m~/miniconda3/lib/python3.6/site-packages/pandas/core/indexing.py\u001b[0m in \u001b[0;36m__getitem__\u001b[0;34m(self, key)\u001b[0m\n\u001b[1;32m   1422\u001b[0m \u001b[0;34m\u001b[0m\u001b[0m\n\u001b[1;32m   1423\u001b[0m             \u001b[0mmaybe_callable\u001b[0m \u001b[0;34m=\u001b[0m \u001b[0mcom\u001b[0m\u001b[0;34m.\u001b[0m\u001b[0mapply_if_callable\u001b[0m\u001b[0;34m(\u001b[0m\u001b[0mkey\u001b[0m\u001b[0;34m,\u001b[0m \u001b[0mself\u001b[0m\u001b[0;34m.\u001b[0m\u001b[0mobj\u001b[0m\u001b[0;34m)\u001b[0m\u001b[0;34m\u001b[0m\u001b[0;34m\u001b[0m\u001b[0m\n\u001b[0;32m-> 1424\u001b[0;31m             \u001b[0;32mreturn\u001b[0m \u001b[0mself\u001b[0m\u001b[0;34m.\u001b[0m\u001b[0m_getitem_axis\u001b[0m\u001b[0;34m(\u001b[0m\u001b[0mmaybe_callable\u001b[0m\u001b[0;34m,\u001b[0m \u001b[0maxis\u001b[0m\u001b[0;34m=\u001b[0m\u001b[0maxis\u001b[0m\u001b[0;34m)\u001b[0m\u001b[0;34m\u001b[0m\u001b[0;34m\u001b[0m\u001b[0m\n\u001b[0m\u001b[1;32m   1425\u001b[0m \u001b[0;34m\u001b[0m\u001b[0m\n\u001b[1;32m   1426\u001b[0m     \u001b[0;32mdef\u001b[0m \u001b[0m_is_scalar_access\u001b[0m\u001b[0;34m(\u001b[0m\u001b[0mself\u001b[0m\u001b[0;34m,\u001b[0m \u001b[0mkey\u001b[0m\u001b[0;34m:\u001b[0m \u001b[0mTuple\u001b[0m\u001b[0;34m)\u001b[0m\u001b[0;34m:\u001b[0m\u001b[0;34m\u001b[0m\u001b[0;34m\u001b[0m\u001b[0m\n",
      "\u001b[0;32m~/miniconda3/lib/python3.6/site-packages/pandas/core/indexing.py\u001b[0m in \u001b[0;36m_getitem_axis\u001b[0;34m(self, key, axis)\u001b[0m\n\u001b[1;32m   1837\u001b[0m                     \u001b[0;32mraise\u001b[0m \u001b[0mValueError\u001b[0m\u001b[0;34m(\u001b[0m\u001b[0;34m\"Cannot index with multidimensional key\"\u001b[0m\u001b[0;34m)\u001b[0m\u001b[0;34m\u001b[0m\u001b[0;34m\u001b[0m\u001b[0m\n\u001b[1;32m   1838\u001b[0m \u001b[0;34m\u001b[0m\u001b[0m\n\u001b[0;32m-> 1839\u001b[0;31m                 \u001b[0;32mreturn\u001b[0m \u001b[0mself\u001b[0m\u001b[0;34m.\u001b[0m\u001b[0m_getitem_iterable\u001b[0m\u001b[0;34m(\u001b[0m\u001b[0mkey\u001b[0m\u001b[0;34m,\u001b[0m \u001b[0maxis\u001b[0m\u001b[0;34m=\u001b[0m\u001b[0maxis\u001b[0m\u001b[0;34m)\u001b[0m\u001b[0;34m\u001b[0m\u001b[0;34m\u001b[0m\u001b[0m\n\u001b[0m\u001b[1;32m   1840\u001b[0m \u001b[0;34m\u001b[0m\u001b[0m\n\u001b[1;32m   1841\u001b[0m             \u001b[0;31m# nested tuple slicing\u001b[0m\u001b[0;34m\u001b[0m\u001b[0;34m\u001b[0m\u001b[0;34m\u001b[0m\u001b[0m\n",
      "\u001b[0;32m~/miniconda3/lib/python3.6/site-packages/pandas/core/indexing.py\u001b[0m in \u001b[0;36m_getitem_iterable\u001b[0;34m(self, key, axis)\u001b[0m\n\u001b[1;32m   1131\u001b[0m         \u001b[0;32melse\u001b[0m\u001b[0;34m:\u001b[0m\u001b[0;34m\u001b[0m\u001b[0;34m\u001b[0m\u001b[0m\n\u001b[1;32m   1132\u001b[0m             \u001b[0;31m# A collection of keys\u001b[0m\u001b[0;34m\u001b[0m\u001b[0;34m\u001b[0m\u001b[0;34m\u001b[0m\u001b[0m\n\u001b[0;32m-> 1133\u001b[0;31m             \u001b[0mkeyarr\u001b[0m\u001b[0;34m,\u001b[0m \u001b[0mindexer\u001b[0m \u001b[0;34m=\u001b[0m \u001b[0mself\u001b[0m\u001b[0;34m.\u001b[0m\u001b[0m_get_listlike_indexer\u001b[0m\u001b[0;34m(\u001b[0m\u001b[0mkey\u001b[0m\u001b[0;34m,\u001b[0m \u001b[0maxis\u001b[0m\u001b[0;34m,\u001b[0m \u001b[0mraise_missing\u001b[0m\u001b[0;34m=\u001b[0m\u001b[0;32mFalse\u001b[0m\u001b[0;34m)\u001b[0m\u001b[0;34m\u001b[0m\u001b[0;34m\u001b[0m\u001b[0m\n\u001b[0m\u001b[1;32m   1134\u001b[0m             return self.obj._reindex_with_indexers(\n\u001b[1;32m   1135\u001b[0m                 \u001b[0;34m{\u001b[0m\u001b[0maxis\u001b[0m\u001b[0;34m:\u001b[0m \u001b[0;34m[\u001b[0m\u001b[0mkeyarr\u001b[0m\u001b[0;34m,\u001b[0m \u001b[0mindexer\u001b[0m\u001b[0;34m]\u001b[0m\u001b[0;34m}\u001b[0m\u001b[0;34m,\u001b[0m \u001b[0mcopy\u001b[0m\u001b[0;34m=\u001b[0m\u001b[0;32mTrue\u001b[0m\u001b[0;34m,\u001b[0m \u001b[0mallow_dups\u001b[0m\u001b[0;34m=\u001b[0m\u001b[0;32mTrue\u001b[0m\u001b[0;34m\u001b[0m\u001b[0;34m\u001b[0m\u001b[0m\n",
      "\u001b[0;32m~/miniconda3/lib/python3.6/site-packages/pandas/core/indexing.py\u001b[0m in \u001b[0;36m_get_listlike_indexer\u001b[0;34m(self, key, axis, raise_missing)\u001b[0m\n\u001b[1;32m   1090\u001b[0m \u001b[0;34m\u001b[0m\u001b[0m\n\u001b[1;32m   1091\u001b[0m         self._validate_read_indexer(\n\u001b[0;32m-> 1092\u001b[0;31m             \u001b[0mkeyarr\u001b[0m\u001b[0;34m,\u001b[0m \u001b[0mindexer\u001b[0m\u001b[0;34m,\u001b[0m \u001b[0mo\u001b[0m\u001b[0;34m.\u001b[0m\u001b[0m_get_axis_number\u001b[0m\u001b[0;34m(\u001b[0m\u001b[0maxis\u001b[0m\u001b[0;34m)\u001b[0m\u001b[0;34m,\u001b[0m \u001b[0mraise_missing\u001b[0m\u001b[0;34m=\u001b[0m\u001b[0mraise_missing\u001b[0m\u001b[0;34m\u001b[0m\u001b[0;34m\u001b[0m\u001b[0m\n\u001b[0m\u001b[1;32m   1093\u001b[0m         )\n\u001b[1;32m   1094\u001b[0m         \u001b[0;32mreturn\u001b[0m \u001b[0mkeyarr\u001b[0m\u001b[0;34m,\u001b[0m \u001b[0mindexer\u001b[0m\u001b[0;34m\u001b[0m\u001b[0;34m\u001b[0m\u001b[0m\n",
      "\u001b[0;32m~/miniconda3/lib/python3.6/site-packages/pandas/core/indexing.py\u001b[0m in \u001b[0;36m_validate_read_indexer\u001b[0;34m(self, key, indexer, axis, raise_missing)\u001b[0m\n\u001b[1;32m   1175\u001b[0m                 raise KeyError(\n\u001b[1;32m   1176\u001b[0m                     \"None of [{key}] are in the [{axis}]\".format(\n\u001b[0;32m-> 1177\u001b[0;31m                         \u001b[0mkey\u001b[0m\u001b[0;34m=\u001b[0m\u001b[0mkey\u001b[0m\u001b[0;34m,\u001b[0m \u001b[0maxis\u001b[0m\u001b[0;34m=\u001b[0m\u001b[0mself\u001b[0m\u001b[0;34m.\u001b[0m\u001b[0mobj\u001b[0m\u001b[0;34m.\u001b[0m\u001b[0m_get_axis_name\u001b[0m\u001b[0;34m(\u001b[0m\u001b[0maxis\u001b[0m\u001b[0;34m)\u001b[0m\u001b[0;34m\u001b[0m\u001b[0;34m\u001b[0m\u001b[0m\n\u001b[0m\u001b[1;32m   1178\u001b[0m                     )\n\u001b[1;32m   1179\u001b[0m                 )\n",
      "\u001b[0;31mKeyError\u001b[0m: \"None of [Index(['MG-132', 'BORTEZOMIB'], dtype='object', name='Gene')] are in the [index]\""
     ]
    }
   ],
   "source": [
    "# prots_gdsc_ = []\n",
    "# for x in prots_gdsc: prots_gdsc_.append(x.upper())\n",
    "GDSC.loc[prots_gdsc_,'EffectSize']"
   ]
  },
  {
   "cell_type": "code",
   "execution_count": 8,
   "metadata": {},
   "outputs": [],
   "source": [
    "prots_gdsc_ = ['MG-132', 'BORTEZOMIB']"
   ]
  },
  {
   "cell_type": "code",
   "execution_count": 29,
   "metadata": {
    "scrolled": true
   },
   "outputs": [
    {
     "data": {
      "image/png": "[encoded data removed]",
      "text/plain": [
       "<Figure size 432x288 with 1 Axes>"
      ]
     },
     "metadata": {},
     "output_type": "display_data"
    }
   ],
   "source": [
    "GDSC = pd.read_csv('Limma/drug_comparisons/GDSC_lineage_as_covariate_NEW.csv',index_col=0)\n",
    "\n",
    "\n",
    "\n",
    "\n",
    "drug_name_GDSC = 'MPS-1-IN-1'\n",
    "\n",
    "\n",
    "fix,ax = plt.subplots()\n",
    "plt.scatter(GDSC.loc[:,'EffectSize'],-np.log10(GDSC.loc[:,'p.value']),alpha=.2,color='gray',s=8,label=None)\n",
    "plt.scatter(GDSC.loc[prots_gdsc_,'EffectSize'],-np.log10(GDSC.loc[prots_gdsc_,'p.value']),alpha=1,color='red',s=10,label='proteasome inhibitors')\n",
    "\n",
    "#plt.xlim(-1.3,1.3)\n",
    "plt.xlabel('effect size')\n",
    "plt.ylabel('-log10(p-value)')\n",
    "plt.title('GDSC (lineage as covariate)')\n",
    "plotting.simpleaxis(ax)\n",
    "\n",
    "\n",
    "# texts = []\n",
    "# for txt in sorted([drug_name_GDSC]):#,'KIF18A (81930)']):\n",
    "#     texts.append(plt.text(GDSC.loc[txt,'EffectSize'], -np.log10(GDSC.loc[txt,'p.value']),'MPS1 inhibitor\\n(' + txt.split(' ')[0] + ')',color='black'))\n",
    "# adjust_text(texts)\n",
    "plt.legend()\n",
    "plt.savefig('review_plots/GDSC_proteasome_NEW.png')\n"
   ]
  },
  {
   "cell_type": "code",
   "execution_count": 22,
   "metadata": {
    "scrolled": true
   },
   "outputs": [
    {
     "data": {
      "text/plain": [
       "Index(['HG-5-88-01 (1143)', 'HG6-64-1 (159)', 'I-BET-762 (275)',\n",
       "       'ICL1100013 (1266)', 'IOX2 (1230)', 'IPA-3 (176)', 'Idelalisib (238)',\n",
       "       'Imatinib (34)', 'Ispinesib Mesylate (208)',\n",
       "       'JNK Inhibitor VIII (1043)', 'JNK-9L (157)', 'JQ1 (1218)', 'JQ1 (163)',\n",
       "       'JQ12 (164)', 'JW-7-24-1 (256)', 'JW-7-52-1 (83)', 'KIN001-236 (286)',\n",
       "       'KIN001-244 (287)', 'KIN001-260 (290)', 'KIN001-266 (291)',\n",
       "       'KIN001-270 (345)', 'KU-55933 (1030)', 'LFM-A13 (192)',\n",
       "       'Lapatinib (119)', 'Lenalidomide (1020)', 'Lestaurtinib (1024)',\n",
       "       'Linifanib (277)', 'Linsitinib (185)', 'Luminespib (194)', 'MG-132 (9)',\n",
       "       'MK-2206 (1053)', 'MPS-1-IN-1 (294)', 'Masitinib (292)',\n",
       "       'Methotrexate (1008)', 'Midostaurin (153)', 'Mitomycin-C (136)',\n",
       "       'Motesanib (1029)', 'NG-25 (260)', 'NPK76-II-72-1 (257)',\n",
       "       'NSC-207895 (269)', 'NSC-87877 (147)', 'NU7441 (1038)',\n",
       "       'NVP-BHG712 (295)', 'NVP-TAE684 (35)', 'Navitoclax (1011)',\n",
       "       'Nilotinib (1013)', 'Nutlin-3a (-) (1047)', 'OSI-027 (299)',\n",
       "       'OSI-930 (298)', 'OSU-03012 (167)'],\n",
       "      dtype='object', name='Gene')"
      ]
     },
     "execution_count": 22,
     "metadata": {},
     "output_type": "execute_result"
    }
   ],
   "source": [
    "GDSC.sort_index().iloc[100:150].index"
   ]
  },
  {
   "cell_type": "code",
   "execution_count": 23,
   "metadata": {},
   "outputs": [],
   "source": [
    "gdscs_2 = ['Bortezomib (104)','MG-132 (9)' ]"
   ]
  },
  {
   "cell_type": "code",
   "execution_count": 27,
   "metadata": {},
   "outputs": [
    {
     "data": {
      "image/png": "[encoded data removed]",
      "text/plain": [
       "<Figure size 432x288 with 1 Axes>"
      ]
     },
     "metadata": {},
     "output_type": "display_data"
    }
   ],
   "source": [
    "GDSC = pd.read_csv('Limma/drug_comparisons/GDSC_lineage_as_covariate_OLD_DATA_REVISION_NEW.csv',index_col=0)\n",
    "\n",
    "\n",
    "\n",
    "\n",
    "# drug_name_GDSC = 'MPS-1-IN-1'\n",
    "\n",
    "\n",
    "fix,ax = plt.subplots()#figsize=(3,4))\n",
    "plt.scatter(GDSC.loc[:,'EffectSize'],-np.log10(GDSC.loc[:,'p.value']),alpha=.2,color='gray',s=8,label=None)\n",
    "plt.scatter(GDSC.loc[gdscs_2,'EffectSize'],-np.log10(GDSC.loc[gdscs_2,'p.value']),alpha=1,color='red',s=10,label='proteasome inhibitors')\n",
    "\n",
    "#plt.xlim(-1.3,1.3)\n",
    "plt.xlabel('effect size')\n",
    "plt.ylabel('-log10(p-value)')\n",
    "plt.title('GDSC (lineage as covariate, older data)')\n",
    "plotting.simpleaxis(ax)\n",
    "plt.legend()\n",
    "\n",
    "# # texts = []\n",
    "# # for txt in sorted([drug_name_GDSC]):#,'KIF18A (81930)']):\n",
    "# #     texts.append(plt.text(GDSC.loc[txt,'EffectSize'], -np.log10(GDSC.loc[txt,'p.value']),'MPS1 inhibitor\\n(' + txt.split(' ')[0] + ')',color='black'))\n",
    "# # adjust_text(texts)\n",
    "\n",
    "plt.savefig('review_plots/GDSC_proteasome_older_data_NEW.png')\n"
   ]
  },
  {
   "cell_type": "code",
   "execution_count": 185,
   "metadata": {},
   "outputs": [
    {
     "data": {
      "text/html": [
       "<div>\n",
       "<style scoped>\n",
       "    .dataframe tbody tr th:only-of-type {\n",
       "        vertical-align: middle;\n",
       "    }\n",
       "\n",
       "    .dataframe tbody tr th {\n",
       "        vertical-align: top;\n",
       "    }\n",
       "\n",
       "    .dataframe thead th {\n",
       "        text-align: right;\n",
       "    }\n",
       "</style>\n",
       "<table border=\"1\" class=\"dataframe\">\n",
       "  <thead>\n",
       "    <tr style=\"text-align: right;\">\n",
       "      <th></th>\n",
       "      <th>EffectSize</th>\n",
       "      <th>Avg</th>\n",
       "      <th>t_stat</th>\n",
       "      <th>p.value</th>\n",
       "      <th>q.value</th>\n",
       "      <th>log_odds</th>\n",
       "      <th>min_samples</th>\n",
       "      <th>p.left</th>\n",
       "      <th>p.right</th>\n",
       "      <th>q.left</th>\n",
       "      <th>q.right</th>\n",
       "    </tr>\n",
       "    <tr>\n",
       "      <th>Gene</th>\n",
       "      <th></th>\n",
       "      <th></th>\n",
       "      <th></th>\n",
       "      <th></th>\n",
       "      <th></th>\n",
       "      <th></th>\n",
       "      <th></th>\n",
       "      <th></th>\n",
       "      <th></th>\n",
       "      <th></th>\n",
       "      <th></th>\n",
       "    </tr>\n",
       "  </thead>\n",
       "  <tbody>\n",
       "    <tr>\n",
       "      <th>MG-132</th>\n",
       "      <td>-0.017835</td>\n",
       "      <td>0.822863</td>\n",
       "      <td>-0.513549</td>\n",
       "      <td>0.608610</td>\n",
       "      <td>0.916372</td>\n",
       "      <td>-6.209667</td>\n",
       "      <td>44</td>\n",
       "      <td>0.304305</td>\n",
       "      <td>0.695695</td>\n",
       "      <td>0.999999</td>\n",
       "      <td>0.940608</td>\n",
       "    </tr>\n",
       "    <tr>\n",
       "      <th>Bortezomib</th>\n",
       "      <td>-0.032060</td>\n",
       "      <td>0.638989</td>\n",
       "      <td>-0.621981</td>\n",
       "      <td>0.535245</td>\n",
       "      <td>0.903522</td>\n",
       "      <td>-6.149870</td>\n",
       "      <td>43</td>\n",
       "      <td>0.267623</td>\n",
       "      <td>0.732377</td>\n",
       "      <td>0.999999</td>\n",
       "      <td>0.950134</td>\n",
       "    </tr>\n",
       "  </tbody>\n",
       "</table>\n",
       "</div>"
      ],
      "text/plain": [
       "            EffectSize       Avg    t_stat   p.value   q.value  log_odds  \\\n",
       "Gene                                                                       \n",
       "MG-132       -0.017835  0.822863 -0.513549  0.608610  0.916372 -6.209667   \n",
       "Bortezomib   -0.032060  0.638989 -0.621981  0.535245  0.903522 -6.149870   \n",
       "\n",
       "            min_samples    p.left   p.right    q.left   q.right  \n",
       "Gene                                                             \n",
       "MG-132               44  0.304305  0.695695  0.999999  0.940608  \n",
       "Bortezomib           43  0.267623  0.732377  0.999999  0.950134  "
      ]
     },
     "execution_count": 185,
     "metadata": {},
     "output_type": "execute_result"
    }
   ],
   "source": [
    "GDSC.loc[prots_gdsc]"
   ]
  },
  {
   "cell_type": "code",
   "execution_count": 110,
   "metadata": {},
   "outputs": [],
   "source": [
    "# GDSC = pd.read_csv('Limma/drug_comparisons/GDSC_lineage_as_covariate.csv',index_col=0)\n",
    "\n",
    "\n",
    "\n",
    "\n",
    "# drug_name_GDSC = 'MPS-1-IN-1'\n",
    "\n",
    "\n",
    "# fix,ax = plt.subplots()\n",
    "# plt.scatter(GDSC.loc[:,'EffectSize'],-np.log10(GDSC.loc[:,'p.value']),alpha=.2,color='gray',s=10)\n",
    "# plt.scatter(GDSC.loc[drug_name_GDSC,'EffectSize'],-np.log10(GDSC.loc[drug_name_GDSC,'p.value']),alpha=1,color='red',s=40)\n",
    "\n",
    "# #plt.xlim(-1.3,1.3)\n",
    "# plt.xlabel('effect size')\n",
    "# plt.ylabel('-log10(p-value)')\n",
    "# plt.title('GDSC')\n",
    "# plotting.simpleaxis(ax)\n",
    "\n",
    "\n",
    "# texts = []\n",
    "# for txt in sorted([drug_name_GDSC]):#,'KIF18A (81930)']):\n",
    "#     texts.append(plt.text(GDSC.loc[txt,'EffectSize'], -np.log10(GDSC.loc[txt,'p.value']),'MPS1 inhibitor\\n(' + txt.split(' ')[0] + ')',color='black'))\n",
    "# adjust_text(texts)\n",
    "# plt.savefig('fig3b/GDSC_lineage_as_covariate.pdf')"
   ]
  },
  {
   "cell_type": "code",
   "execution_count": 112,
   "metadata": {},
   "outputs": [
    {
     "data": {
      "text/plain": [
       "<matplotlib.legend.Legend at 0x1a2b5d33c8>"
      ]
     },
     "execution_count": 112,
     "metadata": {},
     "output_type": "execute_result"
    },
    {
     "data": {
      "image/png": "[encoded data removed]",
      "text/plain": [
       "<Figure size 432x288 with 1 Axes>"
      ]
     },
     "metadata": {},
     "output_type": "display_data"
    }
   ],
   "source": [
    "CTD = pd.read_csv('Limma/drug_comparisons/CTD.csv',index_col=0)\n",
    "\n",
    "\n",
    "\n",
    "\n",
    "drug_name_CTD = 'AZ-3146'\n",
    "\n",
    "\n",
    "fix,ax = plt.subplots()\n",
    "plt.scatter(CTD.loc[:,'EffectSize'],-np.log10(CTD.loc[:,'p.value']),alpha=.2,color='gray',s=10,label=None)\n",
    "plt.scatter(CTD.loc[CTD_protos,'EffectSize'],-np.log10(CTD.loc[CTD_protos,'p.value']),alpha=1,color='red',s=40,label='proteasome inhibitor')\n",
    "\n",
    "#plt.xlim(-1.3,1.3)\n",
    "plt.xlabel('effect size')\n",
    "plt.ylabel('-log10(p-value)')\n",
    "plt.title('CTD$^{2}$')\n",
    "plotting.simpleaxis(ax)\n",
    "\n",
    "plt.legend()\n",
    "# texts = []\n",
    "# for txt in sorted([drug_name_CTD]):#,'KIF18A (81930)']):\n",
    "#     texts.append(plt.text(CTD.loc[txt,'EffectSize'], -np.log10(CTD.loc[txt,'p.value']),'MPS1 inhibitor \\n(' + txt.split(' ')[0] + ')',color='black'))\n",
    "# adjust_text(texts)\n",
    "# plt.savefig('fig3b/CTD.pdf')"
   ]
  },
  {
   "cell_type": "code",
   "execution_count": 20,
   "metadata": {},
   "outputs": [
    {
     "data": {
      "image/png": "[encoded data removed]",
      "text/plain": [
       "<Figure size 432x288 with 1 Axes>"
      ]
     },
     "metadata": {},
     "output_type": "display_data"
    }
   ],
   "source": [
    "CTD = pd.read_csv('Limma/drug_comparisons/CTD_lineage_as_covariate.csv',index_col=0)\n",
    "\n",
    "\n",
    "\n",
    "\n",
    "drug_name_CTD = 'AZ-3146'\n",
    "\n",
    "\n",
    "fix,ax = plt.subplots()\n",
    "plt.scatter(CTD.loc[:,'EffectSize'],-np.log10(CTD.loc[:,'p.value']),alpha=.2,color='gray',s=10)\n",
    "plt.scatter(CTD.loc[drug_name_CTD,'EffectSize'],-np.log10(CTD.loc[drug_name_CTD,'p.value']),alpha=1,color='red',s=40)\n",
    "\n",
    "#plt.xlim(-1.3,1.3)\n",
    "plt.xlabel('effect size')\n",
    "plt.ylabel('-log10(p-value)')\n",
    "plt.title('CTD$^{2}$')\n",
    "plotting.simpleaxis(ax)\n",
    "\n",
    "\n",
    "texts = []\n",
    "for txt in sorted([drug_name_CTD]):#,'KIF18A (81930)']):\n",
    "    texts.append(plt.text(CTD.loc[txt,'EffectSize'], -np.log10(CTD.loc[txt,'p.value']),'MPS1 inhibitor \\n(' + txt.split(' ')[0] + ')',color='black'))\n",
    "adjust_text(texts)\n",
    "plt.savefig('fig3b/CTD_lineage_as_covariate.pdf')"
   ]
  },
  {
   "cell_type": "code",
   "execution_count": 22,
   "metadata": {},
   "outputs": [],
   "source": [
    "prism = pd.read_csv('Limma/drug_comparisons/prism.csv',index_col=0)\n",
    "gdsc = pd.read_csv('Limma/drug_comparisons/GDSC.csv',index_col=0)\n",
    "ctd = pd.read_csv('Limma/drug_comparisons/CTD.csv',index_col=0)\n",
    "\n",
    "prism.loc[:,['EffectSize','p.value','q.value']].to_csv('tables/supp_table_4_prism.csv')\n",
    "gdsc.loc[:,['EffectSize','p.value','q.value']].to_csv('tables/supp_table_4_gdsc.csv')\n",
    "ctd.loc[:,['EffectSize','p.value','q.value']].to_csv('tables/supp_table_4_ctd.csv')\n",
    "\n",
    "\n",
    "\n",
    "cov_prism = pd.read_csv('Limma/drug_comparisons/prism_lineage_covariate.csv',index_col=0)\n",
    "cov_gdsc = pd.read_csv('Limma/drug_comparisons/GDSC_lineage_as_covariate.csv',index_col=0)\n",
    "cov_ctd = pd.read_csv('Limma/drug_comparisons/CTD_lineage_as_covariate.csv',index_col=0)\n",
    "\n",
    "cov_prism.loc[:,['EffectSize','p.value','q.value']].to_csv('tables/supp_table_4_prism(lineage_as_covariate).csv')\n",
    "cov_gdsc.loc[:,['EffectSize','p.value','q.value']].to_csv('tables/supp_table_4_gdsc(lineage_as_covariate).csv')\n",
    "cov_ctd.loc[:,['EffectSize','p.value','q.value']].to_csv('tables/supp_table_4_ctd(lineage_as_covariate).csv')"
   ]
  },
  {
   "cell_type": "code",
   "execution_count": 23,
   "metadata": {},
   "outputs": [],
   "source": [
    "###########\n",
    "#now make boxplots (fig3C)\n",
    "##########"
   ]
  },
  {
   "cell_type": "code",
   "execution_count": 25,
   "metadata": {},
   "outputs": [
    {
     "name": "stderr",
     "output_type": "stream",
     "text": [
      "[##################]100% |   6.9 MiB/s |   3.9 MiB /   3.9 MiB | Time:  0:00:00\n",
      "[##################]100% |   2.7 MiB/s |   3.0 MiB /   3.0 MiB | Time:  0:00:01\n",
      "[##################]100% |   7.0 MiB/s |   5.4 MiB /   5.4 MiB | Time:  0:00:00\n"
     ]
    }
   ],
   "source": [
    "from taigapy import TaigaClient\n",
    "tc = TaigaClient()\n",
    "ctd_matrix = tc.get(name='aneuploidy-data-d0b9', version=7, file='ctd_matrix')\n",
    "sanger_matrix = tc.get(name='aneuploidy-data-d0b9', version=7, file='sanger_matrix')\n",
    "prism_matrix = tc.get(name='aneuploidy-data-d0b9', version=7, file='secondary_matrix')"
   ]
  },
  {
   "cell_type": "code",
   "execution_count": 8,
   "metadata": {},
   "outputs": [],
   "source": [
    "anot = pd.read_csv('aneuploidy_data_compact.csv',index_col=0)\n",
    "\n",
    "anot_CCLE = anot.copy()\n",
    "anot_CCLE.index = anot_CCLE.loc[:,'CCLE_ID']"
   ]
  },
  {
   "cell_type": "code",
   "execution_count": 24,
   "metadata": {},
   "outputs": [],
   "source": [
    "\n",
    "from scipy import stats\n",
    "\n",
    "my_pal = {\"Diploid\": \"C0\", \"Aneuploid\": \"firebrick\"}\n",
    "my_order = order=['Diploid','Aneuploid']"
   ]
  },
  {
   "cell_type": "code",
   "execution_count": 66,
   "metadata": {},
   "outputs": [
    {
     "name": "stderr",
     "output_type": "stream",
     "text": [
      "/Users/mkazachk/miniconda3/lib/python3.6/site-packages/scipy/stats/stats.py:1713: FutureWarning: Using a non-tuple sequence for multidimensional indexing is deprecated; use `arr[tuple(seq)]` instead of `arr[seq]`. In the future this will be interpreted as an array index, `arr[np.array(seq)]`, which will result either in an error or a different result.\n",
      "  return np.add.reduce(sorted[indexer] * weights, axis=axis) / sumval\n",
      "No handles with labels found to put in legend.\n"
     ]
    },
    {
     "data": {
      "image/png": "[encoded data removed]",
      "text/plain": [
       "<Figure size 432x288 with 1 Axes>"
      ]
     },
     "metadata": {},
     "output_type": "display_data"
    }
   ],
   "source": [
    "\n",
    "shared = set(anot.index) & set(prism_matrix.index)\n",
    "temp = prism_matrix.loc[shared]\n",
    "temp['ploidy'] = anot.loc[temp.index,'many_arm_events']\n",
    "\n",
    "trus = temp[temp.loc[:,'ploidy']==True].index \n",
    "temp.loc[trus,'ploidy']= 'Aneuploid'\n",
    "falsee = temp[temp.loc[:,'ploidy']==False].index \n",
    "temp.loc[falsee,'ploidy']=  'Diploid'\n",
    "\n",
    "drug_name_prism\n",
    "\n",
    "fig,ax = plt.subplots()\n",
    "sns.violinplot(y = drug_name_prism,x='ploidy', data = temp,saturation=1,linewidth=.5,order=my_order,palette = my_pal)\n",
    "sns.swarmplot(y = drug_name_prism,x='ploidy', data = temp,color='black',alpha=.4,order=my_order)\n",
    "\n",
    "\n",
    "plt.xlabel('')\n",
    "plt.ylabel(drug_name_prism + ' AUC')\n",
    "plotting.simpleaxis()\n",
    "\n",
    "\n",
    "\n",
    "tt,p_val = stats.ttest_ind(temp.loc[trus,drug_name_prism].dropna(),temp.loc[falsee,drug_name_prism].dropna())\n",
    "ax.legend(title='p = '+ str(round(p_val,4)),frameon=False)\n",
    "plt.title('PRISM')\n",
    "plt.tight_layout()\n",
    "plt.savefig('fig3c/prism.pdf')"
   ]
  },
  {
   "cell_type": "code",
   "execution_count": 67,
   "metadata": {},
   "outputs": [
    {
     "name": "stderr",
     "output_type": "stream",
     "text": [
      "/Users/mkazachk/miniconda3/lib/python3.6/site-packages/scipy/stats/stats.py:1713: FutureWarning: Using a non-tuple sequence for multidimensional indexing is deprecated; use `arr[tuple(seq)]` instead of `arr[seq]`. In the future this will be interpreted as an array index, `arr[np.array(seq)]`, which will result either in an error or a different result.\n",
      "  return np.add.reduce(sorted[indexer] * weights, axis=axis) / sumval\n",
      "No handles with labels found to put in legend.\n"
     ]
    },
    {
     "data": {
      "image/png": "[encoded data removed]",
      "text/plain": [
       "<Figure size 432x288 with 1 Axes>"
      ]
     },
     "metadata": {},
     "output_type": "display_data"
    }
   ],
   "source": [
    "shared = set(anot.index) & set(sanger_matrix.index)\n",
    "temp = sanger_matrix.loc[shared]\n",
    "temp['ploidy'] = anot.loc[temp.index,'many_arm_events']\n",
    "\n",
    "trus = temp[temp.loc[:,'ploidy']==True].index \n",
    "temp.loc[trus,'ploidy']= 'Aneuploid'\n",
    "falsee = temp[temp.loc[:,'ploidy']==False].index \n",
    "temp.loc[falsee,'ploidy']=  'Diploid'\n",
    "\n",
    "drug_name_GDSC\n",
    "\n",
    "fig,ax = plt.subplots()\n",
    "sns.violinplot(y = drug_name_GDSC,x='ploidy', data = temp,saturation=1,linewidth=.5,order=my_order,palette = my_pal)\n",
    "sns.swarmplot(y = drug_name_GDSC,x='ploidy', data = temp,color='black',alpha=.4,order=my_order)\n",
    "\n",
    "\n",
    "plt.xlabel('')\n",
    "plt.ylabel(drug_name_GDSC + ' AUC')\n",
    "plotting.simpleaxis()\n",
    "plt.tight_layout()\n",
    "\n",
    "\n",
    "tt,p_val = stats.ttest_ind(temp.loc[trus,drug_name_GDSC].dropna(),temp.loc[falsee,drug_name_GDSC].dropna())\n",
    "ax.legend(title='p = '+ str(round(p_val,6)),frameon=False)\n",
    "plt.title('GDSC')\n",
    "plt.tight_layout()\n",
    "plt.savefig('fig3c/gdsc.pdf')\n"
   ]
  },
  {
   "cell_type": "code",
   "execution_count": 68,
   "metadata": {},
   "outputs": [
    {
     "name": "stderr",
     "output_type": "stream",
     "text": [
      "/Users/mkazachk/miniconda3/lib/python3.6/site-packages/scipy/stats/stats.py:1713: FutureWarning: Using a non-tuple sequence for multidimensional indexing is deprecated; use `arr[tuple(seq)]` instead of `arr[seq]`. In the future this will be interpreted as an array index, `arr[np.array(seq)]`, which will result either in an error or a different result.\n",
      "  return np.add.reduce(sorted[indexer] * weights, axis=axis) / sumval\n",
      "No handles with labels found to put in legend.\n"
     ]
    },
    {
     "data": {
      "image/png": "[encoded data removed]",
      "text/plain": [
       "<Figure size 432x288 with 1 Axes>"
      ]
     },
     "metadata": {},
     "output_type": "display_data"
    }
   ],
   "source": [
    "shared = set(anot_CCLE.index) & set(ctd_matrix.index)\n",
    "temp = ctd_matrix.loc[shared]\n",
    "temp['ploidy'] = anot_CCLE.loc[temp.index,'many_arm_events']\n",
    "\n",
    "trus = temp[temp.loc[:,'ploidy']==True].index \n",
    "temp.loc[trus,'ploidy']= 'Aneuploid'\n",
    "falsee = temp[temp.loc[:,'ploidy']==False].index \n",
    "temp.loc[falsee,'ploidy']=  'Diploid'\n",
    "\n",
    "drug_name_CTD\n",
    "\n",
    "fig,ax = plt.subplots()\n",
    "sns.violinplot(y = drug_name_CTD,x='ploidy', data = temp,saturation=1,linewidth=.5,order=my_order,palette = my_pal)\n",
    "sns.swarmplot(y = drug_name_CTD,x='ploidy', data = temp,color='black',alpha=.4,order=my_order)\n",
    "\n",
    "\n",
    "plt.xlabel('')\n",
    "plt.ylabel(drug_name_CTD + ' AUC')\n",
    "plotting.simpleaxis()\n",
    "plt.tight_layout()\n",
    "\n",
    "\n",
    "tt,p_val = stats.ttest_ind(temp.loc[trus,drug_name_CTD].dropna(),temp.loc[falsee,drug_name_CTD].dropna())\n",
    "ax.legend(title='p = '+ str(round(p_val,4)),frameon=False)\n",
    "plt.title('CTD$^{2}$')\n",
    "plt.tight_layout()\n",
    "plt.savefig('fig3c/ctd.pdf')\n",
    "\n"
   ]
  },
  {
   "cell_type": "code",
   "execution_count": 3,
   "metadata": {},
   "outputs": [],
   "source": [
    "### figure 3d\n",
    "\n",
    "reversine = pd.read_csv('Table S5_Reversine AUC - Table S5_Reversine AUC.csv',index_col=0)"
   ]
  },
  {
   "cell_type": "code",
   "execution_count": 4,
   "metadata": {},
   "outputs": [],
   "source": [
    "reversine_doses = pd.read_table('Rev_file_for_boxplot_single_doses_comparison.txt',index_col=0)"
   ]
  },
  {
   "cell_type": "code",
   "execution_count": 17,
   "metadata": {
    "scrolled": true
   },
   "outputs": [],
   "source": [
    "#sns.kdeplot(reversine.loc[:,'Reversine'])"
   ]
  },
  {
   "cell_type": "code",
   "execution_count": 6,
   "metadata": {},
   "outputs": [],
   "source": [
    "from statannot import add_stat_annotation"
   ]
  },
  {
   "cell_type": "code",
   "execution_count": 34,
   "metadata": {},
   "outputs": [
    {
     "name": "stderr",
     "output_type": "stream",
     "text": [
      "/Users/mkazachk/miniconda3/lib/python3.6/site-packages/scipy/stats/stats.py:1713: FutureWarning: Using a non-tuple sequence for multidimensional indexing is deprecated; use `arr[tuple(seq)]` instead of `arr[seq]`. In the future this will be interpreted as an array index, `arr[np.array(seq)]`, which will result either in an error or a different result.\n",
      "  return np.add.reduce(sorted[indexer] * weights, axis=axis) / sumval\n"
     ]
    },
    {
     "name": "stdout",
     "output_type": "stream",
     "text": [
      "p-value annotation legend:\n",
      "ns: 5.00e-02 < p <= 1.00e+00\n",
      "*: 1.00e-02 < p <= 5.00e-02\n",
      "**: 1.00e-03 < p <= 1.00e-02\n",
      "***: 1.00e-04 < p <= 1.00e-03\n",
      "****: p <= 1.00e-04\n",
      "\n",
      "0.7407_Aneuploid v.s. 0.7407_Diploid: t-test independent samples, P_val=3.060e-03 stat=2.990e+00\n",
      "2.2222_Aneuploid v.s. 2.2222_Diploid: t-test independent samples, P_val=3.936e-02 stat=2.071e+00\n",
      "6.6667_Aneuploid v.s. 6.6667_Diploid: t-test independent samples, P_val=2.356e-02 stat=2.278e+00\n",
      "20.0_Aneuploid v.s. 20.0_Diploid: t-test independent samples, P_val=9.012e-03 stat=2.631e+00\n",
      "0.2469_Aneuploid v.s. 0.2469_Diploid: t-test independent samples, P_val=8.198e-03 stat=2.664e+00\n",
      "0.0009_Aneuploid v.s. 0.0009_Diploid: t-test independent samples, P_val=7.934e-01 stat=2.621e-01\n",
      "0.0091_Aneuploid v.s. 0.0091_Diploid: t-test independent samples, P_val=9.577e-01 stat=-5.314e-02\n",
      "0.0274_Aneuploid v.s. 0.0274_Diploid: t-test independent samples, P_val=8.077e-01 stat=2.436e-01\n",
      "0.0823_Aneuploid v.s. 0.0823_Diploid: t-test independent samples, P_val=5.598e-01 stat=5.839e-01\n"
     ]
    },
    {
     "data": {
      "image/png": "[encoded data removed]",
      "text/plain": [
       "<Figure size 648x288 with 1 Axes>"
      ]
     },
     "metadata": {},
     "output_type": "display_data"
    }
   ],
   "source": [
    "#remake boxplot\n",
    "\n",
    "fix,ax = plt.subplots(figsize=(9,4))\n",
    "\n",
    "shared = set(anot.loc[:,'CCLE_ID']) & set(reversine_doses.index)\n",
    "temp = reversine_doses.loc[shared]\n",
    "temp = temp.drop('Aneuploidy_status',axis=1)\n",
    "\n",
    "temp = pd.melt(temp.reset_index(), id_vars='CCLE_ID')\n",
    "temp.index = temp.loc[:,'CCLE_ID']\n",
    "temp.columns = ['drop','dose','viability']\n",
    "temp = temp.drop('drop',axis=1)\n",
    "\n",
    "temp['ploidy'] = anot_CCLE.loc[temp.index,'many_arm_events']\n",
    "\n",
    "trus = temp[temp.loc[:,'ploidy']==True].index \n",
    "temp.loc[trus,'ploidy']= 'Aneuploid'\n",
    "falsee = temp[temp.loc[:,'ploidy']==False].index \n",
    "temp.loc[falsee,'ploidy']=  'Diploid'\n",
    "\n",
    "for x in set(temp.loc[:,'dose']):\n",
    "    temp = temp.replace(x,round(float(x),4))\n",
    "\n",
    "ax = sns.violinplot(x=\"dose\", y=\"viability\", hue=\"ploidy\",\n",
    "                     data=temp,palette = my_pal, order = sorted(list(set(temp.loc[:,'dose']))),\n",
    "                   hue_order=['Diploid','Aneuploid'])#palette=\"muted\")\n",
    "\n",
    "plotting.simpleaxis(ax)\n",
    "plt.xticks(rotation=45) \n",
    "\n",
    "plt.xlabel('Reversine concentration')\n",
    "plt.ylabel('% viability')\n",
    "\n",
    "\n",
    "box_pairs=[\n",
    "    ((0.0009, \"Diploid\"), (0.0009, \"Aneuploid\")),\n",
    "    ((0.0091, \"Diploid\"), (0.0091, \"Aneuploid\")),\n",
    "    ((0.0274, \"Diploid\"), (0.0274, \"Aneuploid\")),\n",
    "    ((0.0823, \"Diploid\"), (0.0823, \"Aneuploid\")),\n",
    "    ((0.2469, \"Diploid\"), (0.2469, \"Aneuploid\")),\n",
    "    ((0.7407, \"Diploid\"), (0.7407, \"Aneuploid\")),\n",
    "    ((2.2222, \"Diploid\"), (2.2222, \"Aneuploid\")),\n",
    "    ((6.6667, \"Diploid\"), (6.6667, \"Aneuploid\")),\n",
    "    ((20.0, \"Diploid\"), (20.0, \"Aneuploid\"))\n",
    "    ]\n",
    "width = 0.4\n",
    "add_stat_annotation(ax, data=temp, x='dose', y='viability', hue='ploidy', width=width,order = sorted(list(set(temp.loc[:,'dose']))),\n",
    "                    box_pairs=box_pairs, test='t-test_ind', loc='inside', verbose=2, )\n",
    "\n",
    "\n",
    "handles, labels = ax.get_legend_handles_labels()\n",
    "ax.legend(handles=handles[0:], labels=labels[0:])\n",
    "plt.tight_layout()\n",
    "\n",
    "plt.savefig('fig3d/reversine_boxplot.pdf')"
   ]
  },
  {
   "cell_type": "code",
   "execution_count": 32,
   "metadata": {},
   "outputs": [
    {
     "name": "stderr",
     "output_type": "stream",
     "text": [
      "/Users/mkazachk/miniconda3/lib/python3.6/site-packages/scipy/stats/stats.py:1713: FutureWarning: Using a non-tuple sequence for multidimensional indexing is deprecated; use `arr[tuple(seq)]` instead of `arr[seq]`. In the future this will be interpreted as an array index, `arr[np.array(seq)]`, which will result either in an error or a different result.\n",
      "  return np.add.reduce(sorted[indexer] * weights, axis=axis) / sumval\n",
      "No handles with labels found to put in legend.\n"
     ]
    },
    {
     "name": "stdout",
     "output_type": "stream",
     "text": [
      "p-value for BUB1B: 0.0001571638611457238\n"
     ]
    },
    {
     "data": {
      "image/png": "[encoded data removed]",
      "text/plain": [
       "<Figure size 432x288 with 1 Axes>"
      ]
     },
     "metadata": {},
     "output_type": "display_data"
    }
   ],
   "source": [
    "# now make just boxplot\n",
    "shared = set(anot_CCLE.index) & set(reversine.index)\n",
    "temp = reversine.loc[shared]\n",
    "temp['ploidy'] = anot_CCLE.loc[temp.index,'many_arm_events']\n",
    "\n",
    "trus = temp[temp.loc[:,'ploidy']==True].index \n",
    "temp.loc[trus,'ploidy']= 'Aneuploid'\n",
    "falsee = temp[temp.loc[:,'ploidy']==False].index \n",
    "temp.loc[falsee,'ploidy']=  'Diploid'\n",
    "\n",
    "ax = sns.violinplot(y = 'Reversine',x='ploidy', data = temp,saturation=1,linewidth=.5,order=my_order,palette = my_pal)\n",
    "sns.swarmplot(y = 'Reversine',x='ploidy', data = temp,color='black',alpha=.4,order=my_order)\n",
    "\n",
    "\n",
    "from scipy import stats\n",
    "tt,p_val = stats.ttest_ind(reversine.loc[trus,'Reversine'],reversine.loc[falsee,'Reversine'])\n",
    "print('p-value for BUB1B: ' + str(p_val))\n",
    "ax.legend(title='p = '+ str(round(p_val,4)),frameon=False)\n",
    "\n",
    "plt.xlabel('')\n",
    "plt.ylabel('Reversine AUC')\n",
    "plotting.simpleaxis(ax)\n",
    "plt.tight_layout()\n",
    "plt.savefig('fig3d/violin_auc.pdf')"
   ]
  },
  {
   "cell_type": "code",
   "execution_count": null,
   "metadata": {},
   "outputs": [],
   "source": []
  },
  {
   "cell_type": "code",
   "execution_count": null,
   "metadata": {},
   "outputs": [],
   "source": []
  },
  {
   "cell_type": "code",
   "execution_count": 172,
   "metadata": {},
   "outputs": [
    {
     "name": "stderr",
     "output_type": "stream",
     "text": [
      "[##################]100% |   2.5 MiB/s |   1.6 MiB /   1.6 MiB | Time:  0:00:00\n"
     ]
    }
   ],
   "source": [
    "GDSC_AUC = tc.get(name='sanger-gdsc-545e', version=1, file='GDSC_AUC')"
   ]
  },
  {
   "cell_type": "code",
   "execution_count": 175,
   "metadata": {},
   "outputs": [],
   "source": [
    "GDSC_AUC = GDSC_AUC.T"
   ]
  },
  {
   "cell_type": "code",
   "execution_count": 177,
   "metadata": {},
   "outputs": [],
   "source": [
    "GDSC_AUC.index = GDSC_AUC.index.str.split(' ').str[0]"
   ]
  },
  {
   "cell_type": "code",
   "execution_count": 179,
   "metadata": {},
   "outputs": [],
   "source": [
    "GDSC_AUC.to_csv('GDSC_old_Data.csv')"
   ]
  },
  {
   "cell_type": "code",
   "execution_count": 191,
   "metadata": {},
   "outputs": [
    {
     "name": "stderr",
     "output_type": "stream",
     "text": [
      "[##################]100% |   3.2 MiB/s |   2.0 MiB /   2.0 MiB | Time:  0:00:00\n"
     ]
    }
   ],
   "source": [
    "GDSC_AUC = tc.get(name='sanger-gdsc-545e', version=2, file='GDSC_AUC')"
   ]
  },
  {
   "cell_type": "code",
   "execution_count": 193,
   "metadata": {},
   "outputs": [
    {
     "name": "stderr",
     "output_type": "stream",
     "text": [
      "[##################]100% |   3.0 MiB/s |  15.6 MiB /  15.6 MiB | Time:  0:00:05\n",
      "[##################]100% |  13.1 MiB/s |  17.2 KiB /  17.2 KiB | ETA:  00:00:00\n"
     ]
    }
   ],
   "source": [
    "GDSC_dr_v17_3 = tc.get(name='sanger-drug-sensitivities-d265', version=2, file='GDSC_dr_v17_3')\n",
    "Screened_Compounds = tc.get(name='sanger-drug-sensitivities-d265', version=2, file='Screened_Compounds')"
   ]
  },
  {
   "cell_type": "code",
   "execution_count": 199,
   "metadata": {},
   "outputs": [],
   "source": [
    "GDSC_dr_v17_3 = tc.get(name='sanger-drug-sensitivities-d265', version=2, file='GDSC_dr_v17_3')\n",
    "Screened_Compounds = tc.get(name='sanger-drug-sensitivities-d265', version=2, file='Screened_Compounds')"
   ]
  },
  {
   "cell_type": "code",
   "execution_count": 212,
   "metadata": {},
   "outputs": [],
   "source": [
    "newss = GDSC_dr_v17_3.pivot_table(index=['CCLE_ID','full_drug_name']).unstack()#.reset_index('full_drug_name')"
   ]
  },
  {
   "cell_type": "code",
   "execution_count": 220,
   "metadata": {},
   "outputs": [],
   "source": [
    "newss.loc[:,'AUC'].to_csv('old_data.csv')"
   ]
  },
  {
   "cell_type": "code",
   "execution_count": 241,
   "metadata": {},
   "outputs": [
    {
     "data": {
      "text/html": [
       "<div>\n",
       "<style scoped>\n",
       "    .dataframe tbody tr th:only-of-type {\n",
       "        vertical-align: middle;\n",
       "    }\n",
       "\n",
       "    .dataframe tbody tr th {\n",
       "        vertical-align: top;\n",
       "    }\n",
       "\n",
       "    .dataframe thead th {\n",
       "        text-align: right;\n",
       "    }\n",
       "</style>\n",
       "<table border=\"1\" class=\"dataframe\">\n",
       "  <thead>\n",
       "    <tr style=\"text-align: right;\">\n",
       "      <th></th>\n",
       "      <th>CCLE_ID</th>\n",
       "      <th>full_drug_name</th>\n",
       "      <th>LN_IC50</th>\n",
       "      <th>AUC</th>\n",
       "      <th>RMSE</th>\n",
       "      <th>Sanger_name</th>\n",
       "    </tr>\n",
       "  </thead>\n",
       "  <tbody>\n",
       "    <tr>\n",
       "      <th>0</th>\n",
       "      <td>MCCAR_HAEMATOPOIETIC_AND_LYMPHOID_TISSUE</td>\n",
       "      <td>Erlotinib (1)</td>\n",
       "      <td>2.453524</td>\n",
       "      <td>0.982610</td>\n",
       "      <td>0.021678</td>\n",
       "      <td>MC-CAR</td>\n",
       "    </tr>\n",
       "    <tr>\n",
       "      <th>1</th>\n",
       "      <td>ES3_BONE</td>\n",
       "      <td>Erlotinib (1)</td>\n",
       "      <td>3.376592</td>\n",
       "      <td>0.985169</td>\n",
       "      <td>0.029915</td>\n",
       "      <td>ES3</td>\n",
       "    </tr>\n",
       "    <tr>\n",
       "      <th>2</th>\n",
       "      <td>ES5_BONE</td>\n",
       "      <td>Erlotinib (1)</td>\n",
       "      <td>3.614664</td>\n",
       "      <td>0.983207</td>\n",
       "      <td>0.031201</td>\n",
       "      <td>ES5</td>\n",
       "    </tr>\n",
       "    <tr>\n",
       "      <th>3</th>\n",
       "      <td>ES7_BONE</td>\n",
       "      <td>Erlotinib (1)</td>\n",
       "      <td>3.223394</td>\n",
       "      <td>0.984574</td>\n",
       "      <td>0.093857</td>\n",
       "      <td>ES7</td>\n",
       "    </tr>\n",
       "    <tr>\n",
       "      <th>4</th>\n",
       "      <td>EW11_BONE</td>\n",
       "      <td>Erlotinib (1)</td>\n",
       "      <td>2.486405</td>\n",
       "      <td>0.946034</td>\n",
       "      <td>0.087280</td>\n",
       "      <td>EW-11</td>\n",
       "    </tr>\n",
       "    <tr>\n",
       "      <th>...</th>\n",
       "      <td>...</td>\n",
       "      <td>...</td>\n",
       "      <td>...</td>\n",
       "      <td>...</td>\n",
       "      <td>...</td>\n",
       "      <td>...</td>\n",
       "    </tr>\n",
       "    <tr>\n",
       "      <th>224197</th>\n",
       "      <td>SNU81_LARGE_INTESTINE</td>\n",
       "      <td>PFI-3 (1530)</td>\n",
       "      <td>5.672046</td>\n",
       "      <td>0.979899</td>\n",
       "      <td>0.039776</td>\n",
       "      <td>SNU-81</td>\n",
       "    </tr>\n",
       "    <tr>\n",
       "      <th>224198</th>\n",
       "      <td>SNUC5_LARGE_INTESTINE</td>\n",
       "      <td>PFI-3 (1530)</td>\n",
       "      <td>5.148379</td>\n",
       "      <td>0.984387</td>\n",
       "      <td>0.034964</td>\n",
       "      <td>SNU-C5</td>\n",
       "    </tr>\n",
       "    <tr>\n",
       "      <th>224199</th>\n",
       "      <td>DIFI_LARGE_INTESTINE</td>\n",
       "      <td>PFI-3 (1530)</td>\n",
       "      <td>3.612011</td>\n",
       "      <td>0.951702</td>\n",
       "      <td>0.080331</td>\n",
       "      <td>DIFI</td>\n",
       "    </tr>\n",
       "    <tr>\n",
       "      <th>224200</th>\n",
       "      <td>LIM1215_LARGE_INTESTINE</td>\n",
       "      <td>PFI-3 (1530)</td>\n",
       "      <td>5.505086</td>\n",
       "      <td>0.979424</td>\n",
       "      <td>0.040105</td>\n",
       "      <td>LIM1215</td>\n",
       "    </tr>\n",
       "    <tr>\n",
       "      <th>224201</th>\n",
       "      <td>GEO_LARGE_INTESTINE</td>\n",
       "      <td>PFI-3 (1530)</td>\n",
       "      <td>3.859006</td>\n",
       "      <td>0.880627</td>\n",
       "      <td>0.221875</td>\n",
       "      <td>Geo</td>\n",
       "    </tr>\n",
       "  </tbody>\n",
       "</table>\n",
       "<p>224202 rows × 6 columns</p>\n",
       "</div>"
      ],
      "text/plain": [
       "                                         CCLE_ID full_drug_name   LN_IC50  \\\n",
       "0       MCCAR_HAEMATOPOIETIC_AND_LYMPHOID_TISSUE  Erlotinib (1)  2.453524   \n",
       "1                                       ES3_BONE  Erlotinib (1)  3.376592   \n",
       "2                                       ES5_BONE  Erlotinib (1)  3.614664   \n",
       "3                                       ES7_BONE  Erlotinib (1)  3.223394   \n",
       "4                                      EW11_BONE  Erlotinib (1)  2.486405   \n",
       "...                                          ...            ...       ...   \n",
       "224197                     SNU81_LARGE_INTESTINE   PFI-3 (1530)  5.672046   \n",
       "224198                     SNUC5_LARGE_INTESTINE   PFI-3 (1530)  5.148379   \n",
       "224199                      DIFI_LARGE_INTESTINE   PFI-3 (1530)  3.612011   \n",
       "224200                   LIM1215_LARGE_INTESTINE   PFI-3 (1530)  5.505086   \n",
       "224201                       GEO_LARGE_INTESTINE   PFI-3 (1530)  3.859006   \n",
       "\n",
       "             AUC      RMSE Sanger_name  \n",
       "0       0.982610  0.021678      MC-CAR  \n",
       "1       0.985169  0.029915         ES3  \n",
       "2       0.983207  0.031201         ES5  \n",
       "3       0.984574  0.093857         ES7  \n",
       "4       0.946034  0.087280       EW-11  \n",
       "...          ...       ...         ...  \n",
       "224197  0.979899  0.039776      SNU-81  \n",
       "224198  0.984387  0.034964      SNU-C5  \n",
       "224199  0.951702  0.080331        DIFI  \n",
       "224200  0.979424  0.040105     LIM1215  \n",
       "224201  0.880627  0.221875         Geo  \n",
       "\n",
       "[224202 rows x 6 columns]"
      ]
     },
     "execution_count": 241,
     "metadata": {},
     "output_type": "execute_result"
    }
   ],
   "source": [
    "GDSC_dr_v17_3"
   ]
  },
  {
   "cell_type": "code",
   "execution_count": 226,
   "metadata": {},
   "outputs": [
    {
     "data": {
      "text/html": [
       "<div>\n",
       "<style scoped>\n",
       "    .dataframe tbody tr th:only-of-type {\n",
       "        vertical-align: middle;\n",
       "    }\n",
       "\n",
       "    .dataframe tbody tr th {\n",
       "        vertical-align: top;\n",
       "    }\n",
       "\n",
       "    .dataframe thead th {\n",
       "        text-align: right;\n",
       "    }\n",
       "</style>\n",
       "<table border=\"1\" class=\"dataframe\">\n",
       "  <thead>\n",
       "    <tr style=\"text-align: right;\">\n",
       "      <th></th>\n",
       "      <th>CCLE_ID</th>\n",
       "      <th>full_drug_name</th>\n",
       "      <th>LN_IC50</th>\n",
       "      <th>AUC</th>\n",
       "      <th>RMSE</th>\n",
       "      <th>Sanger_name</th>\n",
       "    </tr>\n",
       "  </thead>\n",
       "  <tbody>\n",
       "  </tbody>\n",
       "</table>\n",
       "</div>"
      ],
      "text/plain": [
       "Empty DataFrame\n",
       "Columns: [CCLE_ID, full_drug_name, LN_IC50, AUC, RMSE, Sanger_name]\n",
       "Index: []"
      ]
     },
     "execution_count": 226,
     "metadata": {},
     "output_type": "execute_result"
    }
   ],
   "source": [
    "GDSC_dr_v17_3[GDSC_dr_v17_3.loc[:,'full_drug_name'] == 'FK866']"
   ]
  },
  {
   "cell_type": "code",
   "execution_count": 231,
   "metadata": {},
   "outputs": [
    {
     "data": {
      "text/plain": [
       "['(5Z)-7-Oxozeaenol (1242)',\n",
       " '5-Fluorouracil (179)',\n",
       " 'A-443654 (86)',\n",
       " 'A-770041 (55)',\n",
       " 'AICA Ribonucleotide (1001)',\n",
       " 'AKT inhibitor VIII (171)',\n",
       " 'AKT inhibitor VIII (228)',\n",
       " 'AR-42 (272)',\n",
       " 'AS601245 (207)',\n",
       " 'AS605240 (224)',\n",
       " 'AT-7519 (219)',\n",
       " 'AZ628 (29)',\n",
       " 'AZD6482 (1066)',\n",
       " 'AZD6482 (156)',\n",
       " 'AZD7762 (1022)',\n",
       " 'AZD8055 (1059)',\n",
       " 'Afatinib (1032)',\n",
       " 'Afatinib (1377)',\n",
       " 'Alectinib (281)',\n",
       " 'Amuvatinib (293)',\n",
       " 'Avagacestat (1072)',\n",
       " 'Avagacestat (205)',\n",
       " 'Axitinib (1021)',\n",
       " 'BAY-61-3606 (178)',\n",
       " 'BI-2536 (60)',\n",
       " 'BIX02189 (279)',\n",
       " 'BMS-345541 (203)',\n",
       " 'BMS-509744 (63)',\n",
       " 'BMS-536924 (1091)',\n",
       " 'BMS-536924 (62)',\n",
       " 'BMS-754807 (184)',\n",
       " 'BX-912 (222)',\n",
       " 'BX795 (1037)',\n",
       " 'Belinostat (274)',\n",
       " 'Bexarotene (186)',\n",
       " 'Bicalutamide (150)',\n",
       " 'Bicalutamide (1502)',\n",
       " 'Bleomycin (190)',\n",
       " 'Bleomycin (50 uM) (1378)',\n",
       " 'Bortezomib (104)',\n",
       " 'Bosutinib (1019)',\n",
       " 'Bryostatin 1 (197)',\n",
       " 'CAY10603 (276)',\n",
       " 'CCT-018159 (1170)',\n",
       " 'CCT007093 (1067)',\n",
       " 'CGP-082996 (54)',\n",
       " 'CGP-60474 (53)',\n",
       " 'CHIR-99021 (1241)',\n",
       " 'CHIR-99021 (154)',\n",
       " 'CI-1040 (1015)',\n",
       " 'CMK (64)',\n",
       " 'CP466722 (152)',\n",
       " 'CP724714 (255)',\n",
       " 'CUDC-101 (273)',\n",
       " 'CX-5461 (300)',\n",
       " 'Cabozantinib (249)',\n",
       " 'Cetuximab (1114)',\n",
       " 'Cisplatin (1005)',\n",
       " 'Crizotinib (37)',\n",
       " 'Cyclopamine (17)',\n",
       " 'Cytarabine (1006)',\n",
       " 'DMOG (165)',\n",
       " 'Dabrafenib (1373)',\n",
       " 'Dacinostat (200)',\n",
       " 'Dactolisib (1057)',\n",
       " 'Daporinad (1248)',\n",
       " 'Dasatinib (51)',\n",
       " 'Docetaxel (1007)',\n",
       " 'Doramapimod (1042)',\n",
       " 'Doxorubicin (133)',\n",
       " 'EHT-1864 (1069)',\n",
       " 'Elesclomol (1031)',\n",
       " 'Embelin (172)',\n",
       " 'Entinostat (88)',\n",
       " 'Enzastaurin (229)',\n",
       " 'Epothilone B (201)',\n",
       " 'Erlotinib (1)',\n",
       " 'Etoposide (134)',\n",
       " 'FH535 (173)',\n",
       " 'FMK (231)',\n",
       " 'FR-180204 (263)',\n",
       " 'FTI-277 (166)',\n",
       " 'Fedratinib (306)',\n",
       " 'Foretinib (308)',\n",
       " 'GNF-2 (52)',\n",
       " 'GSK1070916 (226)',\n",
       " 'GSK1904529A (202)',\n",
       " 'GSK269962A (1192)',\n",
       " 'GSK269962A (127)',\n",
       " 'GSK319347A (91)',\n",
       " 'GSK429286A (230)',\n",
       " 'GSK650394 (177)',\n",
       " 'GSK690693 (326)',\n",
       " 'GW-2580 (193)',\n",
       " 'GW441756 (1023)',\n",
       " 'GW843682X (87)',\n",
       " 'Gefitinib (1010)',\n",
       " 'Gemcitabine (135)',\n",
       " 'Genentech Cpd 10 (225)',\n",
       " 'HG-5-113-01 (1142)',\n",
       " 'HG-5-88-01 (1143)',\n",
       " 'HG6-64-1 (159)',\n",
       " 'I-BET-762 (275)',\n",
       " 'ICL1100013 (1266)',\n",
       " 'IOX2 (1230)',\n",
       " 'IPA-3 (176)',\n",
       " 'Idelalisib (238)',\n",
       " 'Imatinib (34)',\n",
       " 'Ispinesib Mesylate (208)',\n",
       " 'JNK Inhibitor VIII (1043)',\n",
       " 'JNK-9L (157)',\n",
       " 'JQ1 (1218)',\n",
       " 'JQ1 (163)',\n",
       " 'JQ12 (164)',\n",
       " 'JW-7-24-1 (256)',\n",
       " 'JW-7-52-1 (83)',\n",
       " 'KIN001-236 (286)',\n",
       " 'KIN001-244 (287)',\n",
       " 'KIN001-260 (290)',\n",
       " 'KIN001-266 (291)',\n",
       " 'KIN001-270 (345)',\n",
       " 'KU-55933 (1030)',\n",
       " 'LFM-A13 (192)',\n",
       " 'Lapatinib (119)',\n",
       " 'Lenalidomide (1020)',\n",
       " 'Lestaurtinib (1024)',\n",
       " 'Linifanib (277)',\n",
       " 'Linsitinib (185)',\n",
       " 'Luminespib (194)',\n",
       " 'MG-132 (9)',\n",
       " 'MK-2206 (1053)',\n",
       " 'MPS-1-IN-1 (294)',\n",
       " 'Masitinib (292)',\n",
       " 'Methotrexate (1008)',\n",
       " 'Midostaurin (153)',\n",
       " 'Mitomycin-C (136)',\n",
       " 'Motesanib (1029)',\n",
       " 'NG-25 (260)',\n",
       " 'NPK76-II-72-1 (257)',\n",
       " 'NSC-207895 (269)',\n",
       " 'NSC-87877 (147)',\n",
       " 'NU7441 (1038)',\n",
       " 'NVP-BHG712 (295)',\n",
       " 'NVP-TAE684 (35)',\n",
       " 'Navitoclax (1011)',\n",
       " 'Nilotinib (1013)',\n",
       " 'Nutlin-3a (-) (1047)',\n",
       " 'OSI-027 (299)',\n",
       " 'OSI-930 (298)',\n",
       " 'OSU-03012 (167)',\n",
       " 'Obatoclax Mesylate (182)',\n",
       " 'Olaparib (1017)',\n",
       " 'Olaparib (1495)',\n",
       " 'Omipalisib (283)',\n",
       " 'PAC-1 (175)',\n",
       " 'PD0325901 (1060)',\n",
       " 'PD173074 (1049)',\n",
       " 'PF-4708671 (1129)',\n",
       " 'PF-562271 (158)',\n",
       " 'PFI-1 (1219)',\n",
       " 'PFI-3 (1530)',\n",
       " 'PHA-665752 (6)',\n",
       " 'PHA-793887 (301)',\n",
       " 'PI-103 (302)',\n",
       " 'PIK-93 (303)',\n",
       " 'PLX-4720 (1036)',\n",
       " 'PLX-4720 (1371)',\n",
       " 'Paclitaxel (11)',\n",
       " 'Palbociclib (1054)',\n",
       " 'Parthenolide (89)',\n",
       " 'Pazopanib (199)',\n",
       " 'Pelitinib (282)',\n",
       " 'Pevonedistat (1529)',\n",
       " 'Phenformin (196)',\n",
       " 'Pictilisib (1058)',\n",
       " 'Pictilisib (1527)',\n",
       " 'Piperlongumine (1243)',\n",
       " 'Ponatinib (155)',\n",
       " 'Pyrimethamine (71)',\n",
       " 'QL-VIII-58 (1166)',\n",
       " 'QL-X-138 (331)',\n",
       " 'QL-XI-92 (329)',\n",
       " 'QL-XII-47 (235)',\n",
       " 'QL-XII-61 (1203)',\n",
       " 'QS11 (151)',\n",
       " 'Quizartinib (254)',\n",
       " 'RO-3306 (1052)',\n",
       " 'Rapamycin (3)',\n",
       " 'Refametinib (1014)',\n",
       " 'Refametinib (1526)',\n",
       " 'Rucaparib (1175)',\n",
       " 'Ruxolitinib (206)',\n",
       " 'S-Trityl-L-cysteine (41)',\n",
       " 'SB216763 (1025)',\n",
       " 'SB505124 (1194)',\n",
       " 'SB52334 (304)',\n",
       " 'SB590885 (1061)',\n",
       " 'SGC0946 (1264)',\n",
       " 'SL0101 (1039)',\n",
       " 'SN-38 (1494)',\n",
       " 'SNX-2112 (328)',\n",
       " 'STF-62247 (258)',\n",
       " 'Salubrinal (111)',\n",
       " 'Saracatinib (38)',\n",
       " 'Seliciclib (110)',\n",
       " 'Selisistat (341)',\n",
       " 'Selumetinib (1062)',\n",
       " 'Selumetinib (1498)',\n",
       " 'Sepantronium bromide (268)',\n",
       " 'Serdemetan (1133)',\n",
       " 'Shikonin (170)',\n",
       " 'Sorafenib (30)',\n",
       " 'Sunitinib (5)',\n",
       " 'T0901317 (333)',\n",
       " 'TAK-715 (221)',\n",
       " 'TGX221 (94)',\n",
       " 'THZ-2-102-1 (346)',\n",
       " 'THZ-2-49 (344)',\n",
       " 'TL-1-85 (261)',\n",
       " 'TL-2-105 (211)',\n",
       " 'TPCA-1 (305)',\n",
       " 'TW 37 (1149)',\n",
       " 'Talazoparib (1259)',\n",
       " 'Tamoxifen (1199)',\n",
       " 'Tanespimycin (1026)',\n",
       " 'Temozolomide (1375)',\n",
       " 'Temsirolimus (1016)',\n",
       " 'Thapsigargin (180)',\n",
       " 'Tipifarnib (204)',\n",
       " 'Tivozanib (312)',\n",
       " 'Tozasertib (32)',\n",
       " 'Trametinib (1372)',\n",
       " 'Tretinoin (1009)',\n",
       " 'Tubastatin A (265)',\n",
       " 'UNC0638 (1236)',\n",
       " 'UNC0638 (245)',\n",
       " 'UNC1215 (1262)',\n",
       " 'VNLG/124 (271)',\n",
       " 'VX-11e (262)',\n",
       " 'VX-702 (1028)',\n",
       " 'Veliparib (1018)',\n",
       " 'Vinblastine (1004)',\n",
       " 'Vinorelbine  (140)',\n",
       " 'Vismodegib (1033)',\n",
       " 'Vorinostat (1012)',\n",
       " 'WH-4-023 (56)',\n",
       " 'WHI-P97 (288)',\n",
       " 'WZ-1-84 (59)',\n",
       " 'WZ3105 (252)',\n",
       " 'Wee1 Inhibitor (1046)',\n",
       " 'XAV939 (1268)',\n",
       " 'XMD11-85h (1158)',\n",
       " 'XMD13-2 (330)',\n",
       " 'XMD14-99 (253)',\n",
       " 'XMD15-27 (332)',\n",
       " 'XMD8-85 (106)',\n",
       " 'XMD8-92 (1164)',\n",
       " 'Y-39983 (309)',\n",
       " 'YK-4-279 (1239)',\n",
       " 'YM201636 (310)',\n",
       " 'Z-LLNle-CHO (45)',\n",
       " 'ZG-10 (1161)',\n",
       " 'ZM447439 (1050)',\n",
       " 'ZSTK474 (223)',\n",
       " 'Zibotentan (266)',\n",
       " 'rTRAIL (1261)']"
      ]
     },
     "execution_count": 231,
     "metadata": {},
     "output_type": "execute_result"
    }
   ],
   "source": [
    "sorted(list(set(GDSC_dr_v17_3.loc[:,'full_drug_name'])))"
   ]
  },
  {
   "cell_type": "code",
   "execution_count": 242,
   "metadata": {},
   "outputs": [
    {
     "data": {
      "text/plain": [
       "266"
      ]
     },
     "execution_count": 242,
     "metadata": {},
     "output_type": "execute_result"
    }
   ],
   "source": [
    "len(list(set(GDSC_dr_v17_3.loc[:,'full_drug_name'])))"
   ]
  },
  {
   "cell_type": "code",
   "execution_count": 236,
   "metadata": {},
   "outputs": [],
   "source": [
    "anot = pd.read_csv('aneuploidy_data_compact.csv',index_col=0)\n",
    "\n",
    "anot_CCLE = anot.copy()\n",
    "anot_CCLE.index = anot_CCLE.loc[:,'CCLE_ID']"
   ]
  },
  {
   "cell_type": "code",
   "execution_count": 238,
   "metadata": {},
   "outputs": [
    {
     "data": {
      "text/plain": [
       "197"
      ]
     },
     "execution_count": 238,
     "metadata": {},
     "output_type": "execute_result"
    }
   ],
   "source": [
    "len(set(anot_CCLE[anot_CCLE.loc[:,'many_arm_events'] == True].index & newss.index))"
   ]
  },
  {
   "cell_type": "code",
   "execution_count": 239,
   "metadata": {},
   "outputs": [
    {
     "data": {
      "text/plain": [
       "167"
      ]
     },
     "execution_count": 239,
     "metadata": {},
     "output_type": "execute_result"
    }
   ],
   "source": [
    "len(set(anot_CCLE[anot_CCLE.loc[:,'many_arm_events'] == False].index & newss.index))"
   ]
  },
  {
   "cell_type": "code",
   "execution_count": null,
   "metadata": {},
   "outputs": [],
   "source": []
  }
 ],
 "metadata": {
  "kernelspec": {
   "display_name": "Python 3",
   "language": "python",
   "name": "python3"
  },
  "language_info": {
   "codemirror_mode": {
    "name": "ipython",
    "version": 3
   },
   "file_extension": ".py",
   "mimetype": "text/x-python",
   "name": "python",
   "nbconvert_exporter": "python",
   "pygments_lexer": "ipython3",
   "version": "3.6.7"
  },
  "toc": {
   "base_numbering": 1,
   "nav_menu": {},
   "number_sections": true,
   "sideBar": true,
   "skip_h1_title": false,
   "title_cell": "Table of Contents",
   "title_sidebar": "Contents",
   "toc_cell": false,
   "toc_position": {},
   "toc_section_display": true,
   "toc_window_display": false
  }
 },
 "nbformat": 4,
 "nbformat_minor": 2
}
