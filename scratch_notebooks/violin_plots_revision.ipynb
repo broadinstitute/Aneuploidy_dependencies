{
 "cells": [
  {
   "cell_type": "code",
   "execution_count": 1,
   "metadata": {},
   "outputs": [],
   "source": [
    "import pandas as pd\n",
    "import numpy as np\n",
    "import seaborn as sns\n",
    "from matplotlib import pyplot as plt\n",
    "\n",
    "import matplotlib.pyplot as plt\n",
    "import seaborn as sns\n",
    "import pandas as pd\n",
    "import numpy as np\n",
    "from statannot import add_stat_annotation\n",
    "\n",
    "anot = pd.read_csv('aneuploidy_data_NEW_COMPACT.csv',index_col=0)\n",
    "\n",
    "anot_CCLE = anot.copy()\n",
    "anot_CCLE.index = anot_CCLE.loc[:,'CCLE_ID']\n",
    "\n",
    "from cds import plotting\n",
    "\n",
    "my_pal = {\"Diploid\": \"C0\", \"Aneuploid\": \"firebrick\"}\n",
    "my_order = order=['Diploid','Aneuploid']"
   ]
  },
  {
   "cell_type": "code",
   "execution_count": 4,
   "metadata": {},
   "outputs": [],
   "source": [
    "reversine14d = pd.read_excel('10CL_reversine_for_plot_with_d14_plus_siRNA72hr.xlsx',sheet_name=0)\n",
    "sirna72hr = pd.read_excel('10CL_reversine_for_plot_with_d14_plus_siRNA72hr.xlsx',sheet_name=1)\n",
    "ec50prism = pd.read_excel('10CL_reversine_for_plot_with_d14_plus_siRNA72hr.xlsx',sheet_name=3)\n",
    "ec50bort = pd.read_excel('10CL_reversine_for_plot_with_d14_plus_siRNA72hr.xlsx',sheet_name=4)"
   ]
  },
  {
   "cell_type": "code",
   "execution_count": 18,
   "metadata": {},
   "outputs": [],
   "source": [
    "reversine14d.iloc[1:6,0] = 'Aneuploid'\n",
    "reversine14d.iloc[6:,0] = 'Diploid'"
   ]
  },
  {
   "cell_type": "code",
   "execution_count": 33,
   "metadata": {},
   "outputs": [
    {
     "data": {
      "text/plain": [
       "1     Aneuploid\n",
       "2     Aneuploid\n",
       "3     Aneuploid\n",
       "4     Aneuploid\n",
       "5     Aneuploid\n",
       "6       Diploid\n",
       "7       Diploid\n",
       "8       Diploid\n",
       "9       Diploid\n",
       "10      Diploid\n",
       "Name: Unnamed: 0, dtype: object"
      ]
     },
     "execution_count": 33,
     "metadata": {},
     "output_type": "execute_result"
    }
   ],
   "source": [
    "reversine14d.iloc[1:].loc[:,'Unnamed: 0']"
   ]
  },
  {
   "cell_type": "code",
   "execution_count": 42,
   "metadata": {},
   "outputs": [
    {
     "data": {
      "text/html": [
       "<div>\n",
       "<style scoped>\n",
       "    .dataframe tbody tr th:only-of-type {\n",
       "        vertical-align: middle;\n",
       "    }\n",
       "\n",
       "    .dataframe tbody tr th {\n",
       "        vertical-align: top;\n",
       "    }\n",
       "\n",
       "    .dataframe thead th {\n",
       "        text-align: right;\n",
       "    }\n",
       "</style>\n",
       "<table border=\"1\" class=\"dataframe\">\n",
       "  <thead>\n",
       "    <tr style=\"text-align: right;\">\n",
       "      <th></th>\n",
       "      <th>Unnamed: 0</th>\n",
       "      <th>Unnamed: 1</th>\n",
       "      <th>72hr</th>\n",
       "      <th>14d</th>\n",
       "    </tr>\n",
       "  </thead>\n",
       "  <tbody>\n",
       "    <tr>\n",
       "      <th>0</th>\n",
       "      <td>250 nM Reversine, normalized to DMSO</td>\n",
       "      <td>cell line</td>\n",
       "      <td>viability</td>\n",
       "      <td>viability</td>\n",
       "    </tr>\n",
       "    <tr>\n",
       "      <th>1</th>\n",
       "      <td>Aneuploid</td>\n",
       "      <td>A101D</td>\n",
       "      <td>0.954363</td>\n",
       "      <td>0.494409</td>\n",
       "    </tr>\n",
       "    <tr>\n",
       "      <th>2</th>\n",
       "      <td>Aneuploid</td>\n",
       "      <td>MDAMB468</td>\n",
       "      <td>0.968254</td>\n",
       "      <td>0.323678</td>\n",
       "    </tr>\n",
       "    <tr>\n",
       "      <th>3</th>\n",
       "      <td>Aneuploid</td>\n",
       "      <td>NCIH1693</td>\n",
       "      <td>0.949323</td>\n",
       "      <td>0.293064</td>\n",
       "    </tr>\n",
       "    <tr>\n",
       "      <th>4</th>\n",
       "      <td>Aneuploid</td>\n",
       "      <td>PANC0813</td>\n",
       "      <td>1.00012</td>\n",
       "      <td>0.643602</td>\n",
       "    </tr>\n",
       "    <tr>\n",
       "      <th>5</th>\n",
       "      <td>Aneuploid</td>\n",
       "      <td>SH10TC</td>\n",
       "      <td>0.897976</td>\n",
       "      <td>0.486454</td>\n",
       "    </tr>\n",
       "    <tr>\n",
       "      <th>6</th>\n",
       "      <td>Diploid</td>\n",
       "      <td>CAL51</td>\n",
       "      <td>0.734493</td>\n",
       "      <td>0.570803</td>\n",
       "    </tr>\n",
       "    <tr>\n",
       "      <th>7</th>\n",
       "      <td>Diploid</td>\n",
       "      <td>EN</td>\n",
       "      <td>0.881224</td>\n",
       "      <td>0.695907</td>\n",
       "    </tr>\n",
       "    <tr>\n",
       "      <th>8</th>\n",
       "      <td>Diploid</td>\n",
       "      <td>MHHNB11</td>\n",
       "      <td>0.659752</td>\n",
       "      <td>0.579478</td>\n",
       "    </tr>\n",
       "    <tr>\n",
       "      <th>9</th>\n",
       "      <td>Diploid</td>\n",
       "      <td>SW48</td>\n",
       "      <td>0.716725</td>\n",
       "      <td>0.801282</td>\n",
       "    </tr>\n",
       "    <tr>\n",
       "      <th>10</th>\n",
       "      <td>Diploid</td>\n",
       "      <td>VMCUB1</td>\n",
       "      <td>0.770346</td>\n",
       "      <td>0.690616</td>\n",
       "    </tr>\n",
       "  </tbody>\n",
       "</table>\n",
       "</div>"
      ],
      "text/plain": [
       "                              Unnamed: 0 Unnamed: 1       72hr        14d\n",
       "0   250 nM Reversine, normalized to DMSO  cell line  viability  viability\n",
       "1                              Aneuploid      A101D   0.954363   0.494409\n",
       "2                              Aneuploid   MDAMB468   0.968254   0.323678\n",
       "3                              Aneuploid   NCIH1693   0.949323   0.293064\n",
       "4                              Aneuploid   PANC0813    1.00012   0.643602\n",
       "5                              Aneuploid     SH10TC   0.897976   0.486454\n",
       "6                                Diploid      CAL51   0.734493   0.570803\n",
       "7                                Diploid         EN   0.881224   0.695907\n",
       "8                                Diploid    MHHNB11   0.659752   0.579478\n",
       "9                                Diploid       SW48   0.716725   0.801282\n",
       "10                               Diploid     VMCUB1   0.770346   0.690616"
      ]
     },
     "execution_count": 42,
     "metadata": {},
     "output_type": "execute_result"
    }
   ],
   "source": [
    "reversine14d"
   ]
  },
  {
   "cell_type": "code",
   "execution_count": 122,
   "metadata": {},
   "outputs": [
    {
     "name": "stderr",
     "output_type": "stream",
     "text": [
      "/Users/mkazachk/miniconda3/lib/python3.6/site-packages/scipy/stats/stats.py:1713: FutureWarning: Using a non-tuple sequence for multidimensional indexing is deprecated; use `arr[tuple(seq)]` instead of `arr[seq]`. In the future this will be interpreted as an array index, `arr[np.array(seq)]`, which will result either in an error or a different result.\n",
      "  return np.add.reduce(sorted[indexer] * weights, axis=axis) / sumval\n",
      "No handles with labels found to put in legend.\n"
     ]
    },
    {
     "data": {
      "image/png": "[encoded data removed]",
      "text/plain": [
       "<Figure size 432x288 with 1 Axes>"
      ]
     },
     "metadata": {},
     "output_type": "display_data"
    }
   ],
   "source": [
    "from scipy import stats\n",
    "fig,ax = plt.subplots()\n",
    "sns.violinplot(x=reversine14d.iloc[1:].loc[:,'Unnamed: 0'],y=reversine14d.iloc[1:].loc[:,'14d'].astype(float),saturation=1,linewidth=.5,order=my_order,palette = my_pal)\n",
    "sns.swarmplot(x=reversine14d.iloc[1:].loc[:,'Unnamed: 0'],y=reversine14d.iloc[1:].loc[:,'14d'].astype(float),color='black',alpha=.4,order=my_order)\n",
    "\n",
    "plt.xlabel('')\n",
    "\n",
    "plotting.simpleaxis()\n",
    "\n",
    "\n",
    "\n",
    "tt,p_val = stats.ttest_ind(reversine14d[reversine14d.loc[:,'Unnamed: 0'] == 'Aneuploid'].loc[:,'14d'].astype(float),reversine14d[reversine14d.loc[:,'Unnamed: 0'] == 'Diploid'].loc[:,'14d'].astype(float))\n",
    "ax.legend(title='p = '+ str(round(p_val,4)),frameon=False)\n",
    "\n",
    "\n",
    "plt.ylabel('250 nM Reversine, normalized to DMSO (Day 14)')\n",
    "\n",
    "plotting.simpleaxis()\n",
    "plt.tight_layout()\n",
    "\n",
    "plt.savefig('14d.pdf')"
   ]
  },
  {
   "cell_type": "code",
   "execution_count": 206,
   "metadata": {
    "scrolled": false
   },
   "outputs": [
    {
     "name": "stderr",
     "output_type": "stream",
     "text": [
      "/Users/mkazachk/miniconda3/lib/python3.6/site-packages/scipy/stats/stats.py:1713: FutureWarning: Using a non-tuple sequence for multidimensional indexing is deprecated; use `arr[tuple(seq)]` instead of `arr[seq]`. In the future this will be interpreted as an array index, `arr[np.array(seq)]`, which will result either in an error or a different result.\n",
      "  return np.add.reduce(sorted[indexer] * weights, axis=axis) / sumval\n",
      "No handles with labels found to put in legend.\n"
     ]
    },
    {
     "data": {
      "image/png": "[encoded data removed]",
      "text/plain": [
       "<Figure size 432x288 with 1 Axes>"
      ]
     },
     "metadata": {},
     "output_type": "display_data"
    }
   ],
   "source": [
    "temp = reversine14d.copy()#.loc[:,['Unnamed: 0','72hr','14d']]\n",
    "\n",
    "temp = temp.drop([0])\n",
    "temp.index = temp.loc[:,'Unnamed: 0']\n",
    "\n",
    "temp = pd.DataFrame(temp.loc[:,['72hr','14d']].unstack()).reset_index()\n",
    "\n",
    "fig,ax = plt.subplots()\n",
    "sns.violinplot(x=temp.loc[:,'Unnamed: 0'],y=temp.iloc[:,2].astype(float),saturation=1,linewidth=.5,order=my_order,palette = my_pal)\n",
    "sns.swarmplot(x=temp.loc[:,'Unnamed: 0'],y=temp.iloc[:,2].astype(float),color='black',alpha=.4,order=my_order)\n",
    "\n",
    "plt.xlabel('')\n",
    "\n",
    "plotting.simpleaxis()\n",
    "\n",
    "\n",
    "tt,p_val = stats.ttest_ind(reversine14d[reversine14d.loc[:,'Unnamed: 0'] == 'Aneuploid'].iloc[:,2].astype(float),reversine14d[reversine14d.loc[:,'Unnamed: 0'] == 'Diploid'].iloc[:,2].astype(float))\n",
    "ax.legend(title='p = '+ str(round(p_val,4)),frameon=False)\n",
    "\n",
    "\n",
    "plt.ylabel('250 nM Reversine, normalized to DMSO (combined)')\n",
    "\n",
    "plotting.simpleaxis()\n",
    "plt.tight_layout()\n",
    "\n",
    "plt.savefig('combined_time.pdf')"
   ]
  },
  {
   "cell_type": "code",
   "execution_count": 207,
   "metadata": {},
   "outputs": [],
   "source": [
    "temp.columns = ['time','ploidy','value']"
   ]
  },
  {
   "cell_type": "code",
   "execution_count": 208,
   "metadata": {},
   "outputs": [],
   "source": [
    "temp.iloc[:,2] = temp.iloc[:,2].astype(float)"
   ]
  },
  {
   "cell_type": "code",
   "execution_count": 209,
   "metadata": {},
   "outputs": [],
   "source": [
    "temp.loc[:,'time'] = temp.loc[:,'time'].astype(str)"
   ]
  },
  {
   "cell_type": "code",
   "execution_count": 210,
   "metadata": {},
   "outputs": [],
   "source": [
    "temp.loc[:,'ploidy'] = temp.loc[:,'ploidy'].astype(str)"
   ]
  },
  {
   "cell_type": "code",
   "execution_count": 211,
   "metadata": {},
   "outputs": [],
   "source": [
    "temp.index = temp.index.astype(str) "
   ]
  },
  {
   "cell_type": "code",
   "execution_count": 212,
   "metadata": {},
   "outputs": [
    {
     "data": {
      "text/html": [
       "<div>\n",
       "<style scoped>\n",
       "    .dataframe tbody tr th:only-of-type {\n",
       "        vertical-align: middle;\n",
       "    }\n",
       "\n",
       "    .dataframe tbody tr th {\n",
       "        vertical-align: top;\n",
       "    }\n",
       "\n",
       "    .dataframe thead th {\n",
       "        text-align: right;\n",
       "    }\n",
       "</style>\n",
       "<table border=\"1\" class=\"dataframe\">\n",
       "  <thead>\n",
       "    <tr style=\"text-align: right;\">\n",
       "      <th></th>\n",
       "      <th>time</th>\n",
       "      <th>ploidy</th>\n",
       "      <th>value</th>\n",
       "    </tr>\n",
       "  </thead>\n",
       "  <tbody>\n",
       "    <tr>\n",
       "      <th>0</th>\n",
       "      <td>72hr</td>\n",
       "      <td>Aneuploid</td>\n",
       "      <td>0.954363</td>\n",
       "    </tr>\n",
       "    <tr>\n",
       "      <th>1</th>\n",
       "      <td>72hr</td>\n",
       "      <td>Aneuploid</td>\n",
       "      <td>0.968254</td>\n",
       "    </tr>\n",
       "    <tr>\n",
       "      <th>2</th>\n",
       "      <td>72hr</td>\n",
       "      <td>Aneuploid</td>\n",
       "      <td>0.949323</td>\n",
       "    </tr>\n",
       "    <tr>\n",
       "      <th>3</th>\n",
       "      <td>72hr</td>\n",
       "      <td>Aneuploid</td>\n",
       "      <td>1.000123</td>\n",
       "    </tr>\n",
       "    <tr>\n",
       "      <th>4</th>\n",
       "      <td>72hr</td>\n",
       "      <td>Aneuploid</td>\n",
       "      <td>0.897976</td>\n",
       "    </tr>\n",
       "    <tr>\n",
       "      <th>5</th>\n",
       "      <td>72hr</td>\n",
       "      <td>Diploid</td>\n",
       "      <td>0.734493</td>\n",
       "    </tr>\n",
       "    <tr>\n",
       "      <th>6</th>\n",
       "      <td>72hr</td>\n",
       "      <td>Diploid</td>\n",
       "      <td>0.881224</td>\n",
       "    </tr>\n",
       "    <tr>\n",
       "      <th>7</th>\n",
       "      <td>72hr</td>\n",
       "      <td>Diploid</td>\n",
       "      <td>0.659752</td>\n",
       "    </tr>\n",
       "    <tr>\n",
       "      <th>8</th>\n",
       "      <td>72hr</td>\n",
       "      <td>Diploid</td>\n",
       "      <td>0.716725</td>\n",
       "    </tr>\n",
       "    <tr>\n",
       "      <th>9</th>\n",
       "      <td>72hr</td>\n",
       "      <td>Diploid</td>\n",
       "      <td>0.770346</td>\n",
       "    </tr>\n",
       "    <tr>\n",
       "      <th>10</th>\n",
       "      <td>14d</td>\n",
       "      <td>Aneuploid</td>\n",
       "      <td>0.494409</td>\n",
       "    </tr>\n",
       "    <tr>\n",
       "      <th>11</th>\n",
       "      <td>14d</td>\n",
       "      <td>Aneuploid</td>\n",
       "      <td>0.323678</td>\n",
       "    </tr>\n",
       "    <tr>\n",
       "      <th>12</th>\n",
       "      <td>14d</td>\n",
       "      <td>Aneuploid</td>\n",
       "      <td>0.293064</td>\n",
       "    </tr>\n",
       "    <tr>\n",
       "      <th>13</th>\n",
       "      <td>14d</td>\n",
       "      <td>Aneuploid</td>\n",
       "      <td>0.643602</td>\n",
       "    </tr>\n",
       "    <tr>\n",
       "      <th>14</th>\n",
       "      <td>14d</td>\n",
       "      <td>Aneuploid</td>\n",
       "      <td>0.486454</td>\n",
       "    </tr>\n",
       "    <tr>\n",
       "      <th>15</th>\n",
       "      <td>14d</td>\n",
       "      <td>Diploid</td>\n",
       "      <td>0.570803</td>\n",
       "    </tr>\n",
       "    <tr>\n",
       "      <th>16</th>\n",
       "      <td>14d</td>\n",
       "      <td>Diploid</td>\n",
       "      <td>0.695907</td>\n",
       "    </tr>\n",
       "    <tr>\n",
       "      <th>17</th>\n",
       "      <td>14d</td>\n",
       "      <td>Diploid</td>\n",
       "      <td>0.579478</td>\n",
       "    </tr>\n",
       "    <tr>\n",
       "      <th>18</th>\n",
       "      <td>14d</td>\n",
       "      <td>Diploid</td>\n",
       "      <td>0.801282</td>\n",
       "    </tr>\n",
       "    <tr>\n",
       "      <th>19</th>\n",
       "      <td>14d</td>\n",
       "      <td>Diploid</td>\n",
       "      <td>0.690616</td>\n",
       "    </tr>\n",
       "  </tbody>\n",
       "</table>\n",
       "</div>"
      ],
      "text/plain": [
       "    time     ploidy     value\n",
       "0   72hr  Aneuploid  0.954363\n",
       "1   72hr  Aneuploid  0.968254\n",
       "2   72hr  Aneuploid  0.949323\n",
       "3   72hr  Aneuploid  1.000123\n",
       "4   72hr  Aneuploid  0.897976\n",
       "5   72hr    Diploid  0.734493\n",
       "6   72hr    Diploid  0.881224\n",
       "7   72hr    Diploid  0.659752\n",
       "8   72hr    Diploid  0.716725\n",
       "9   72hr    Diploid  0.770346\n",
       "10   14d  Aneuploid  0.494409\n",
       "11   14d  Aneuploid  0.323678\n",
       "12   14d  Aneuploid  0.293064\n",
       "13   14d  Aneuploid  0.643602\n",
       "14   14d  Aneuploid  0.486454\n",
       "15   14d    Diploid  0.570803\n",
       "16   14d    Diploid  0.695907\n",
       "17   14d    Diploid  0.579478\n",
       "18   14d    Diploid  0.801282\n",
       "19   14d    Diploid  0.690616"
      ]
     },
     "execution_count": 212,
     "metadata": {},
     "output_type": "execute_result"
    }
   ],
   "source": [
    "temp"
   ]
  },
  {
   "cell_type": "code",
   "execution_count": 221,
   "metadata": {},
   "outputs": [
    {
     "name": "stderr",
     "output_type": "stream",
     "text": [
      "/Users/mkazachk/miniconda3/lib/python3.6/site-packages/scipy/stats/stats.py:1713: FutureWarning: Using a non-tuple sequence for multidimensional indexing is deprecated; use `arr[tuple(seq)]` instead of `arr[seq]`. In the future this will be interpreted as an array index, `arr[np.array(seq)]`, which will result either in an error or a different result.\n",
      "  return np.add.reduce(sorted[indexer] * weights, axis=axis) / sumval\n"
     ]
    },
    {
     "name": "stdout",
     "output_type": "stream",
     "text": [
      "p-value annotation legend:\n",
      "ns: 5.00e-02 < p <= 1.00e+00\n",
      "*: 1.00e-02 < p <= 5.00e-02\n",
      "**: 1.00e-03 < p <= 1.00e-02\n",
      "***: 1.00e-04 < p <= 1.00e-03\n",
      "****: p <= 1.00e-04\n",
      "\n",
      "72hr_Aneuploid v.s. 72hr_Diploid: t-test independent samples, P_val=1.063e-03 stat=4.992e+00\n",
      "14d_Aneuploid v.s. 14d_Diploid: t-test independent samples, P_val=2.116e-02 stat=-2.860e+00\n"
     ]
    },
    {
     "data": {
      "image/png": "[encoded data removed]",
      "text/plain": [
       "<Figure size 432x288 with 1 Axes>"
      ]
     },
     "metadata": {},
     "output_type": "display_data"
    }
   ],
   "source": [
    "#sns.kdeplot(x=temp.loc[:,'Unnamed: 0'])\n",
    "from statannot import add_stat_annotation\n",
    "fig,ax = plt.subplots()\n",
    "box_pairs = [\n",
    "    ((\"72hr\", \"Diploid\"), (\"72hr\", \"Aneuploid\")),\n",
    "    ((\"14d\", \"Diploid\"), (\"14d\", \"Aneuploid\"))]\n",
    "\n",
    "sns.violinplot(x='time',y='value',hue = 'ploidy',data=temp,saturation=1,linewidth=.5,palette = my_pal,hue_order=['Diploid','Aneuploid'])\n",
    "\n",
    "sns.swarmplot(x='time',y='value',hue = 'ploidy',data=temp,linewidth=.5,color='black',hue_order=['Diploid','Aneuploid'],dodge=True)\n",
    "\n",
    "\n",
    "\n",
    "\n",
    "width = 0.4\n",
    "add_stat_annotation(ax, data=temp, x='time', y='value', hue='ploidy', width=width,\n",
    "                    box_pairs=box_pairs, test='t-test_ind', loc='inside', verbose=2,order=['72hr','14d'])\n",
    "\n",
    "\n",
    "\n",
    "handles, labels = ax.get_legend_handles_labels()\n",
    "\n",
    "ax.legend(handles=handles[0:2], labels=labels[0:2],loc='lower left')\n",
    "\n",
    "plt.xlabel('')\n",
    "\n",
    "plt.ylabel('250 nM Reversine, normalized to DMSO')\n",
    "plotting.simpleaxis()\n",
    "\n",
    "plt.tight_layout()\n",
    "plt.savefig('reversine_combined2.pdf')\n"
   ]
  },
  {
   "cell_type": "code",
   "execution_count": 142,
   "metadata": {},
   "outputs": [],
   "source": [
    "#EC50_PRISM"
   ]
  },
  {
   "cell_type": "code",
   "execution_count": 224,
   "metadata": {},
   "outputs": [],
   "source": [
    "temp = ec50prism.iloc[2:,0:3]\n",
    "temp.columns = temp.iloc[0]\n",
    "temp = temp.drop([2])\n",
    "\n",
    "temp.iloc[0:5,0] = 'Aneuploid'\n",
    "\n",
    "temp.iloc[5:10,0] = 'Diploid'"
   ]
  },
  {
   "cell_type": "code",
   "execution_count": 225,
   "metadata": {},
   "outputs": [],
   "source": [
    "temp.columns = ['ploidy','line','value']"
   ]
  },
  {
   "cell_type": "code",
   "execution_count": 226,
   "metadata": {},
   "outputs": [],
   "source": [
    "temp = temp.dropna()\n"
   ]
  },
  {
   "cell_type": "code",
   "execution_count": 242,
   "metadata": {},
   "outputs": [
    {
     "name": "stderr",
     "output_type": "stream",
     "text": [
      "No handles with labels found to put in legend.\n"
     ]
    },
    {
     "data": {
      "image/png": "[encoded data removed]",
      "text/plain": [
       "<Figure size 432x288 with 1 Axes>"
      ]
     },
     "metadata": {},
     "output_type": "display_data"
    }
   ],
   "source": [
    "fig,ax = plt.subplots()\n",
    "sns.boxplot(x=temp.loc[:,'ploidy'],y=temp.loc[:,'value'].astype(float),saturation=1,linewidth=.5,order=my_order,palette = my_pal,fliersize=0)\n",
    "sns.swarmplot(x=temp.loc[:,'ploidy'],y=temp.loc[:,'value'].astype(float),color='black',alpha=.4,order=my_order)\n",
    "\n",
    "plt.xlabel('')\n",
    "\n",
    "plotting.simpleaxis()\n",
    "\n",
    "\n",
    "tt,p_val = stats.ttest_ind(temp[temp.loc[:,'ploidy'] == 'Aneuploid'].loc[:,'value'].astype(float),temp[temp.loc[:,'ploidy'] == 'Diploid'].loc[:,'value'].astype(float))\n",
    "ax.legend(title='p = '+ str(round(p_val,4)),frameon=False,loc='upper left')\n",
    "\n",
    "\n",
    "plt.ylabel('EC50 (uM)')\n",
    "\n",
    "plotting.simpleaxis()\n",
    "plt.tight_layout()\n",
    "#plt.ylim(3,3.5)\n",
    "\n",
    "plt.savefig('ec50_prism_box.pdf')"
   ]
  },
  {
   "cell_type": "code",
   "execution_count": null,
   "metadata": {},
   "outputs": [],
   "source": []
  },
  {
   "cell_type": "code",
   "execution_count": 196,
   "metadata": {},
   "outputs": [],
   "source": [
    "temp = ec50bort.iloc[2:,0:3]\n",
    "temp.iloc[0:5,0] = 'Aneuploid'\n",
    "temp.iloc[5:,0] = 'Diploid'"
   ]
  },
  {
   "cell_type": "code",
   "execution_count": 197,
   "metadata": {},
   "outputs": [],
   "source": [
    "temp.columns = ['ploidy','line','value']"
   ]
  },
  {
   "cell_type": "code",
   "execution_count": 199,
   "metadata": {},
   "outputs": [
    {
     "name": "stderr",
     "output_type": "stream",
     "text": [
      "/Users/mkazachk/miniconda3/lib/python3.6/site-packages/scipy/stats/stats.py:1713: FutureWarning: Using a non-tuple sequence for multidimensional indexing is deprecated; use `arr[tuple(seq)]` instead of `arr[seq]`. In the future this will be interpreted as an array index, `arr[np.array(seq)]`, which will result either in an error or a different result.\n",
      "  return np.add.reduce(sorted[indexer] * weights, axis=axis) / sumval\n",
      "No handles with labels found to put in legend.\n"
     ]
    },
    {
     "data": {
      "image/png": "[encoded data removed]",
      "text/plain": [
       "<Figure size 432x288 with 1 Axes>"
      ]
     },
     "metadata": {},
     "output_type": "display_data"
    }
   ],
   "source": [
    "fig,ax = plt.subplots()\n",
    "sns.violinplot(x=temp.loc[:,'ploidy'],y=temp.loc[:,'value'].astype(float),saturation=1,linewidth=.5,order=my_order,palette = my_pal)\n",
    "sns.swarmplot(x=temp.loc[:,'ploidy'],y=temp.loc[:,'value'].astype(float),color='black',alpha=.4,order=my_order)\n",
    "\n",
    "plt.xlabel('')\n",
    "\n",
    "plotting.simpleaxis()\n",
    "\n",
    "\n",
    "tt,p_val = stats.ttest_ind(temp[temp.loc[:,'ploidy'] == 'Aneuploid'].loc[:,'value'].astype(float),temp[temp.loc[:,'ploidy'] == 'Diploid'].loc[:,'value'].astype(float))\n",
    "ax.legend(title='p = '+ str(round(p_val,4)),frameon=False)\n",
    "\n",
    "\n",
    "plt.ylabel('EC50 (uM)')\n",
    "plt.savefig('ec50_bort.pdf')"
   ]
  },
  {
   "cell_type": "code",
   "execution_count": 251,
   "metadata": {},
   "outputs": [
    {
     "name": "stderr",
     "output_type": "stream",
     "text": [
      "/Users/mkazachk/miniconda3/lib/python3.6/site-packages/pandas/core/indexing.py:494: SettingWithCopyWarning: \n",
      "A value is trying to be set on a copy of a slice from a DataFrame.\n",
      "Try using .loc[row_indexer,col_indexer] = value instead\n",
      "\n",
      "See the caveats in the documentation: http://pandas.pydata.org/pandas-docs/stable/user_guide/indexing.html#returning-a-view-versus-a-copy\n",
      "  self.obj[item] = s\n"
     ]
    }
   ],
   "source": [
    "# sirna plot\n",
    "\n",
    "temp = sirna72hr.iloc[:,[1,15,16,17]]\n",
    "temp.iloc[0:5,0] = 'Aneuploid'\n",
    "temp.iloc[5:,0] = 'Diploid'\n",
    "\n",
    "temp = temp.dropna()\n",
    "\n",
    "# bub1b\n",
    "\n",
    "#sns.violinplot(x='time',y='value',hue = 'ploidy',data=temp,saturation=1,linewidth=.5,palette = my_pal,hue_order=['Diploid','Aneuploid'])\n",
    "\n"
   ]
  },
  {
   "cell_type": "code",
   "execution_count": 295,
   "metadata": {},
   "outputs": [],
   "source": [
    "a = temp.iloc[:,[0,1]]\n",
    "b = temp.iloc[:,[0,2]]\n",
    "c = temp.iloc[:,[0,3]]\n",
    "\n",
    "a.index = a.loc[:,'Unnamed: 1']\n",
    "a = pd.DataFrame(a.loc[:,'siRNA-BUB1B.1'])\n",
    "a['gene'] = 'BUB1B'\n",
    "a.columns = ['value','gene']\n",
    "\n",
    "\n",
    "\n",
    "b.index = b.loc[:,'Unnamed: 1']\n",
    "b = pd.DataFrame(b.loc[:,'siRNA-MAD2.1'])\n",
    "b['gene'] = 'MAD2'\n",
    "b.columns = ['value','gene']\n",
    "\n",
    "c.index = c.loc[:,'Unnamed: 1']\n",
    "c = pd.DataFrame(c.loc[:,'siRNA-TTK.1'])\n",
    "c['gene'] = 'TTK'\n",
    "c.columns = ['value','gene']"
   ]
  },
  {
   "cell_type": "code",
   "execution_count": 308,
   "metadata": {},
   "outputs": [],
   "source": [
    "full = pd.concat([pd.concat([a,b]),c])\n",
    "full = full.reset_index()\n"
   ]
  },
  {
   "cell_type": "code",
   "execution_count": 314,
   "metadata": {},
   "outputs": [
    {
     "name": "stderr",
     "output_type": "stream",
     "text": [
      "/Users/mkazachk/miniconda3/lib/python3.6/site-packages/scipy/stats/stats.py:1713: FutureWarning: Using a non-tuple sequence for multidimensional indexing is deprecated; use `arr[tuple(seq)]` instead of `arr[seq]`. In the future this will be interpreted as an array index, `arr[np.array(seq)]`, which will result either in an error or a different result.\n",
      "  return np.add.reduce(sorted[indexer] * weights, axis=axis) / sumval\n"
     ]
    },
    {
     "name": "stdout",
     "output_type": "stream",
     "text": [
      "p-value annotation legend:\n",
      "ns: 5.00e-02 < p <= 1.00e+00\n",
      "*: 1.00e-02 < p <= 5.00e-02\n",
      "**: 1.00e-03 < p <= 1.00e-02\n",
      "***: 1.00e-04 < p <= 1.00e-03\n",
      "****: p <= 1.00e-04\n",
      "\n",
      "BUB1B_Aneuploid v.s. BUB1B_Diploid: t-test independent samples, P_val=1.046e-02 stat=3.986e+00\n",
      "MAD2_Aneuploid v.s. MAD2_Diploid: t-test independent samples, P_val=1.579e-02 stat=3.585e+00\n",
      "TTK_Aneuploid v.s. TTK_Diploid: t-test independent samples, P_val=1.445e-02 stat=3.670e+00\n"
     ]
    },
    {
     "data": {
      "image/png": "[encoded data removed]",
      "text/plain": [
       "<Figure size 432x288 with 1 Axes>"
      ]
     },
     "metadata": {},
     "output_type": "display_data"
    }
   ],
   "source": [
    "\n",
    "\n",
    "\n",
    "\n",
    "fig,ax = plt.subplots()\n",
    "box_pairs = [\n",
    "    ((\"BUB1B\", \"Diploid\"), (\"BUB1B\", \"Aneuploid\")),\n",
    "    ((\"MAD2\", \"Diploid\"), (\"MAD2\", \"Aneuploid\")),\n",
    "    ((\"TTK\", \"Diploid\"), (\"TTK\", \"Aneuploid\"))]\n",
    "\n",
    "sns.violinplot(x='gene',y='value',hue = 'Unnamed: 1',data=full,saturation=1,linewidth=.5,palette = my_pal,hue_order=['Diploid','Aneuploid'])\n",
    "\n",
    "sns.swarmplot(x='gene',y='value',hue = 'Unnamed: 1',data=full,linewidth=.5,color='black',hue_order=['Diploid','Aneuploid'],dodge=True)\n",
    "\n",
    "\n",
    "\n",
    "width = 0.4\n",
    "add_stat_annotation(ax, data=full, x='gene', y='value', hue='Unnamed: 1', width=width,\n",
    "                    box_pairs=box_pairs, test='t-test_ind', loc='inside', verbose=2)\n",
    "\n",
    "\n",
    "\n",
    "handles, labels = ax.get_legend_handles_labels()\n",
    "\n",
    "ax.legend(handles=handles[0:2], labels=labels[0:2],loc='lower right')\n",
    "\n",
    "\n",
    "plt.xlabel('')\n",
    "plt.ylabel('siRNA')\n",
    "plotting.simpleaxis()\n",
    "\n",
    "plt.tight_layout()\n",
    "\n",
    "plt.savefig('sirna.pdf')\n"
   ]
  },
  {
   "cell_type": "code",
   "execution_count": null,
   "metadata": {},
   "outputs": [],
   "source": []
  }
 ],
 "metadata": {
  "kernelspec": {
   "display_name": "Python 3",
   "language": "python",
   "name": "python3"
  },
  "language_info": {
   "codemirror_mode": {
    "name": "ipython",
    "version": 3
   },
   "file_extension": ".py",
   "mimetype": "text/x-python",
   "name": "python",
   "nbconvert_exporter": "python",
   "pygments_lexer": "ipython3",
   "version": "3.6.7"
  },
  "toc": {
   "base_numbering": 1,
   "nav_menu": {},
   "number_sections": true,
   "sideBar": true,
   "skip_h1_title": false,
   "title_cell": "Table of Contents",
   "title_sidebar": "Contents",
   "toc_cell": false,
   "toc_position": {},
   "toc_section_display": true,
   "toc_window_display": false
  }
 },
 "nbformat": 4,
 "nbformat_minor": 2
}
